{
 "cells": [
  {
   "cell_type": "markdown",
   "id": "f59e431d-8e9f-463e-b684-73bbb81847c6",
   "metadata": {},
   "source": [
    "# 1. Project Title: IPL Matches(2008-2024) Data Analysis\n",
    "### Submitted by: Shivam Gupta\n",
    "### Date: 30th January 2025"
   ]
  },
  {
   "cell_type": "markdown",
   "id": "c55b0aeb-7730-49e2-99a2-2a5acfb8b861",
   "metadata": {},
   "source": [
    "# 2. Aim & Objective\n",
    "\n",
    "### Analyze IPL match data to identify the following trends:\n",
    "#### Team Performances, \n",
    "#### Player Statistics, \n",
    "#### Venue Insights, \n",
    "#### Toss and Winning Patterns, and \n",
    "#### Other Match-Winning factors."
   ]
  },
  {
   "cell_type": "markdown",
   "id": "443d042e-3b8d-449f-be4c-21fb50711e60",
   "metadata": {},
   "source": [
    "## 3. Roadmap\n",
    "\n",
    "#### 1. Load and clean dataset\n",
    "#### 2. Perform exploratory data analysis (EDA)\n",
    "#### 3. Visualize key insights\n",
    "#### 4. Summarize findings"
   ]
  },
  {
   "cell_type": "markdown",
   "id": "a4498790-296c-4de0-b16c-99f1996d95cc",
   "metadata": {},
   "source": [
    "## 3.1 Let's load and clean the dataset  "
   ]
  },
  {
   "cell_type": "code",
   "execution_count": 188,
   "id": "2ab1787a-0871-45f6-ae10-8175efb48daf",
   "metadata": {},
   "outputs": [],
   "source": [
    "# Let's import all the necessary libraries of python\n",
    "\n",
    "import pandas as pd\n",
    "import numpy as np\n",
    "import matplotlib.pyplot as plt\n",
    "import seaborn as sns\n",
    "import warnings\n",
    "warnings.filterwarnings(\"ignore\")"
   ]
  },
  {
   "cell_type": "code",
   "execution_count": 189,
   "id": "034b26c4-04c4-40d0-a6c4-1117c883db22",
   "metadata": {},
   "outputs": [
    {
     "data": {
      "text/html": [
       "<div>\n",
       "<style scoped>\n",
       "    .dataframe tbody tr th:only-of-type {\n",
       "        vertical-align: middle;\n",
       "    }\n",
       "\n",
       "    .dataframe tbody tr th {\n",
       "        vertical-align: top;\n",
       "    }\n",
       "\n",
       "    .dataframe thead th {\n",
       "        text-align: right;\n",
       "    }\n",
       "</style>\n",
       "<table border=\"1\" class=\"dataframe\">\n",
       "  <thead>\n",
       "    <tr style=\"text-align: right;\">\n",
       "      <th></th>\n",
       "      <th>id</th>\n",
       "      <th>season</th>\n",
       "      <th>city</th>\n",
       "      <th>date</th>\n",
       "      <th>match_type</th>\n",
       "      <th>player_of_match</th>\n",
       "      <th>venue</th>\n",
       "      <th>team1</th>\n",
       "      <th>team2</th>\n",
       "      <th>toss_winner</th>\n",
       "      <th>toss_decision</th>\n",
       "      <th>winner</th>\n",
       "      <th>result</th>\n",
       "      <th>result_margin</th>\n",
       "      <th>target_runs</th>\n",
       "      <th>target_overs</th>\n",
       "      <th>super_over</th>\n",
       "      <th>method</th>\n",
       "      <th>umpire1</th>\n",
       "      <th>umpire2</th>\n",
       "    </tr>\n",
       "  </thead>\n",
       "  <tbody>\n",
       "    <tr>\n",
       "      <th>0</th>\n",
       "      <td>335982</td>\n",
       "      <td>2007/08</td>\n",
       "      <td>Bangalore</td>\n",
       "      <td>2008-04-18</td>\n",
       "      <td>League</td>\n",
       "      <td>BB McCullum</td>\n",
       "      <td>M Chinnaswamy Stadium</td>\n",
       "      <td>Royal Challengers Bangalore</td>\n",
       "      <td>Kolkata Knight Riders</td>\n",
       "      <td>Royal Challengers Bangalore</td>\n",
       "      <td>field</td>\n",
       "      <td>Kolkata Knight Riders</td>\n",
       "      <td>runs</td>\n",
       "      <td>140.0</td>\n",
       "      <td>223.0</td>\n",
       "      <td>20.0</td>\n",
       "      <td>N</td>\n",
       "      <td>NaN</td>\n",
       "      <td>Asad Rauf</td>\n",
       "      <td>RE Koertzen</td>\n",
       "    </tr>\n",
       "    <tr>\n",
       "      <th>1</th>\n",
       "      <td>335983</td>\n",
       "      <td>2007/08</td>\n",
       "      <td>Chandigarh</td>\n",
       "      <td>2008-04-19</td>\n",
       "      <td>League</td>\n",
       "      <td>MEK Hussey</td>\n",
       "      <td>Punjab Cricket Association Stadium, Mohali</td>\n",
       "      <td>Kings XI Punjab</td>\n",
       "      <td>Chennai Super Kings</td>\n",
       "      <td>Chennai Super Kings</td>\n",
       "      <td>bat</td>\n",
       "      <td>Chennai Super Kings</td>\n",
       "      <td>runs</td>\n",
       "      <td>33.0</td>\n",
       "      <td>241.0</td>\n",
       "      <td>20.0</td>\n",
       "      <td>N</td>\n",
       "      <td>NaN</td>\n",
       "      <td>MR Benson</td>\n",
       "      <td>SL Shastri</td>\n",
       "    </tr>\n",
       "    <tr>\n",
       "      <th>2</th>\n",
       "      <td>335984</td>\n",
       "      <td>2007/08</td>\n",
       "      <td>Delhi</td>\n",
       "      <td>2008-04-19</td>\n",
       "      <td>League</td>\n",
       "      <td>MF Maharoof</td>\n",
       "      <td>Feroz Shah Kotla</td>\n",
       "      <td>Delhi Daredevils</td>\n",
       "      <td>Rajasthan Royals</td>\n",
       "      <td>Rajasthan Royals</td>\n",
       "      <td>bat</td>\n",
       "      <td>Delhi Daredevils</td>\n",
       "      <td>wickets</td>\n",
       "      <td>9.0</td>\n",
       "      <td>130.0</td>\n",
       "      <td>20.0</td>\n",
       "      <td>N</td>\n",
       "      <td>NaN</td>\n",
       "      <td>Aleem Dar</td>\n",
       "      <td>GA Pratapkumar</td>\n",
       "    </tr>\n",
       "    <tr>\n",
       "      <th>3</th>\n",
       "      <td>335985</td>\n",
       "      <td>2007/08</td>\n",
       "      <td>Mumbai</td>\n",
       "      <td>2008-04-20</td>\n",
       "      <td>League</td>\n",
       "      <td>MV Boucher</td>\n",
       "      <td>Wankhede Stadium</td>\n",
       "      <td>Mumbai Indians</td>\n",
       "      <td>Royal Challengers Bangalore</td>\n",
       "      <td>Mumbai Indians</td>\n",
       "      <td>bat</td>\n",
       "      <td>Royal Challengers Bangalore</td>\n",
       "      <td>wickets</td>\n",
       "      <td>5.0</td>\n",
       "      <td>166.0</td>\n",
       "      <td>20.0</td>\n",
       "      <td>N</td>\n",
       "      <td>NaN</td>\n",
       "      <td>SJ Davis</td>\n",
       "      <td>DJ Harper</td>\n",
       "    </tr>\n",
       "    <tr>\n",
       "      <th>4</th>\n",
       "      <td>335986</td>\n",
       "      <td>2007/08</td>\n",
       "      <td>Kolkata</td>\n",
       "      <td>2008-04-20</td>\n",
       "      <td>League</td>\n",
       "      <td>DJ Hussey</td>\n",
       "      <td>Eden Gardens</td>\n",
       "      <td>Kolkata Knight Riders</td>\n",
       "      <td>Deccan Chargers</td>\n",
       "      <td>Deccan Chargers</td>\n",
       "      <td>bat</td>\n",
       "      <td>Kolkata Knight Riders</td>\n",
       "      <td>wickets</td>\n",
       "      <td>5.0</td>\n",
       "      <td>111.0</td>\n",
       "      <td>20.0</td>\n",
       "      <td>N</td>\n",
       "      <td>NaN</td>\n",
       "      <td>BF Bowden</td>\n",
       "      <td>K Hariharan</td>\n",
       "    </tr>\n",
       "  </tbody>\n",
       "</table>\n",
       "</div>"
      ],
      "text/plain": [
       "       id   season        city        date match_type player_of_match  \\\n",
       "0  335982  2007/08   Bangalore  2008-04-18     League     BB McCullum   \n",
       "1  335983  2007/08  Chandigarh  2008-04-19     League      MEK Hussey   \n",
       "2  335984  2007/08       Delhi  2008-04-19     League     MF Maharoof   \n",
       "3  335985  2007/08      Mumbai  2008-04-20     League      MV Boucher   \n",
       "4  335986  2007/08     Kolkata  2008-04-20     League       DJ Hussey   \n",
       "\n",
       "                                        venue                        team1  \\\n",
       "0                       M Chinnaswamy Stadium  Royal Challengers Bangalore   \n",
       "1  Punjab Cricket Association Stadium, Mohali              Kings XI Punjab   \n",
       "2                            Feroz Shah Kotla             Delhi Daredevils   \n",
       "3                            Wankhede Stadium               Mumbai Indians   \n",
       "4                                Eden Gardens        Kolkata Knight Riders   \n",
       "\n",
       "                         team2                  toss_winner toss_decision  \\\n",
       "0        Kolkata Knight Riders  Royal Challengers Bangalore         field   \n",
       "1          Chennai Super Kings          Chennai Super Kings           bat   \n",
       "2             Rajasthan Royals             Rajasthan Royals           bat   \n",
       "3  Royal Challengers Bangalore               Mumbai Indians           bat   \n",
       "4              Deccan Chargers              Deccan Chargers           bat   \n",
       "\n",
       "                        winner   result  result_margin  target_runs  \\\n",
       "0        Kolkata Knight Riders     runs          140.0        223.0   \n",
       "1          Chennai Super Kings     runs           33.0        241.0   \n",
       "2             Delhi Daredevils  wickets            9.0        130.0   \n",
       "3  Royal Challengers Bangalore  wickets            5.0        166.0   \n",
       "4        Kolkata Knight Riders  wickets            5.0        111.0   \n",
       "\n",
       "   target_overs super_over method    umpire1         umpire2  \n",
       "0          20.0          N    NaN  Asad Rauf     RE Koertzen  \n",
       "1          20.0          N    NaN  MR Benson      SL Shastri  \n",
       "2          20.0          N    NaN  Aleem Dar  GA Pratapkumar  \n",
       "3          20.0          N    NaN   SJ Davis       DJ Harper  \n",
       "4          20.0          N    NaN  BF Bowden     K Hariharan  "
      ]
     },
     "execution_count": 189,
     "metadata": {},
     "output_type": "execute_result"
    }
   ],
   "source": [
    "df=pd.read_csv(\"matches.csv\")\n",
    "df.head()"
   ]
  },
  {
   "cell_type": "code",
   "execution_count": 190,
   "id": "f9ceb503-7201-4185-ba6a-e563550f74f0",
   "metadata": {},
   "outputs": [
    {
     "data": {
      "text/html": [
       "<div>\n",
       "<style scoped>\n",
       "    .dataframe tbody tr th:only-of-type {\n",
       "        vertical-align: middle;\n",
       "    }\n",
       "\n",
       "    .dataframe tbody tr th {\n",
       "        vertical-align: top;\n",
       "    }\n",
       "\n",
       "    .dataframe thead th {\n",
       "        text-align: right;\n",
       "    }\n",
       "</style>\n",
       "<table border=\"1\" class=\"dataframe\">\n",
       "  <thead>\n",
       "    <tr style=\"text-align: right;\">\n",
       "      <th></th>\n",
       "      <th>id</th>\n",
       "      <th>result_margin</th>\n",
       "      <th>target_runs</th>\n",
       "      <th>target_overs</th>\n",
       "    </tr>\n",
       "  </thead>\n",
       "  <tbody>\n",
       "    <tr>\n",
       "      <th>count</th>\n",
       "      <td>1.095000e+03</td>\n",
       "      <td>1076.000000</td>\n",
       "      <td>1092.000000</td>\n",
       "      <td>1092.000000</td>\n",
       "    </tr>\n",
       "    <tr>\n",
       "      <th>mean</th>\n",
       "      <td>9.048283e+05</td>\n",
       "      <td>17.259294</td>\n",
       "      <td>165.684066</td>\n",
       "      <td>19.759341</td>\n",
       "    </tr>\n",
       "    <tr>\n",
       "      <th>std</th>\n",
       "      <td>3.677402e+05</td>\n",
       "      <td>21.787444</td>\n",
       "      <td>33.427048</td>\n",
       "      <td>1.581108</td>\n",
       "    </tr>\n",
       "    <tr>\n",
       "      <th>min</th>\n",
       "      <td>3.359820e+05</td>\n",
       "      <td>1.000000</td>\n",
       "      <td>43.000000</td>\n",
       "      <td>5.000000</td>\n",
       "    </tr>\n",
       "    <tr>\n",
       "      <th>25%</th>\n",
       "      <td>5.483315e+05</td>\n",
       "      <td>6.000000</td>\n",
       "      <td>146.000000</td>\n",
       "      <td>20.000000</td>\n",
       "    </tr>\n",
       "    <tr>\n",
       "      <th>50%</th>\n",
       "      <td>9.809610e+05</td>\n",
       "      <td>8.000000</td>\n",
       "      <td>166.000000</td>\n",
       "      <td>20.000000</td>\n",
       "    </tr>\n",
       "    <tr>\n",
       "      <th>75%</th>\n",
       "      <td>1.254062e+06</td>\n",
       "      <td>20.000000</td>\n",
       "      <td>187.000000</td>\n",
       "      <td>20.000000</td>\n",
       "    </tr>\n",
       "    <tr>\n",
       "      <th>max</th>\n",
       "      <td>1.426312e+06</td>\n",
       "      <td>146.000000</td>\n",
       "      <td>288.000000</td>\n",
       "      <td>20.000000</td>\n",
       "    </tr>\n",
       "  </tbody>\n",
       "</table>\n",
       "</div>"
      ],
      "text/plain": [
       "                 id  result_margin  target_runs  target_overs\n",
       "count  1.095000e+03    1076.000000  1092.000000   1092.000000\n",
       "mean   9.048283e+05      17.259294   165.684066     19.759341\n",
       "std    3.677402e+05      21.787444    33.427048      1.581108\n",
       "min    3.359820e+05       1.000000    43.000000      5.000000\n",
       "25%    5.483315e+05       6.000000   146.000000     20.000000\n",
       "50%    9.809610e+05       8.000000   166.000000     20.000000\n",
       "75%    1.254062e+06      20.000000   187.000000     20.000000\n",
       "max    1.426312e+06     146.000000   288.000000     20.000000"
      ]
     },
     "execution_count": 190,
     "metadata": {},
     "output_type": "execute_result"
    }
   ],
   "source": [
    "df.describe()"
   ]
  },
  {
   "cell_type": "code",
   "execution_count": 191,
   "id": "651e3fc1-a0d1-42a3-8853-e00d9126db8d",
   "metadata": {},
   "outputs": [
    {
     "data": {
      "text/plain": [
       "(1095, 20)"
      ]
     },
     "execution_count": 191,
     "metadata": {},
     "output_type": "execute_result"
    }
   ],
   "source": [
    "df.shape"
   ]
  },
  {
   "cell_type": "code",
   "execution_count": 192,
   "id": "8a91a654-abaa-47ca-a2ad-3f04aff5117a",
   "metadata": {},
   "outputs": [
    {
     "data": {
      "text/plain": [
       "Index(['id', 'season', 'city', 'date', 'match_type', 'player_of_match',\n",
       "       'venue', 'team1', 'team2', 'toss_winner', 'toss_decision', 'winner',\n",
       "       'result', 'result_margin', 'target_runs', 'target_overs', 'super_over',\n",
       "       'method', 'umpire1', 'umpire2'],\n",
       "      dtype='object')"
      ]
     },
     "execution_count": 192,
     "metadata": {},
     "output_type": "execute_result"
    }
   ],
   "source": [
    "df.columns"
   ]
  },
  {
   "cell_type": "code",
   "execution_count": 193,
   "id": "0471f8e6-c334-4c78-88fb-e890963c0590",
   "metadata": {},
   "outputs": [
    {
     "data": {
      "text/plain": [
       "0"
      ]
     },
     "execution_count": 193,
     "metadata": {},
     "output_type": "execute_result"
    }
   ],
   "source": [
    "df.duplicated().sum()  # Here we can see that the dataset do not have any duplicate values."
   ]
  },
  {
   "cell_type": "code",
   "execution_count": 194,
   "id": "e59b127a-00da-47c3-adbf-9061441f3cc7",
   "metadata": {},
   "outputs": [
    {
     "name": "stdout",
     "output_type": "stream",
     "text": [
      "<class 'pandas.core.frame.DataFrame'>\n",
      "RangeIndex: 1095 entries, 0 to 1094\n",
      "Data columns (total 20 columns):\n",
      " #   Column           Non-Null Count  Dtype  \n",
      "---  ------           --------------  -----  \n",
      " 0   id               1095 non-null   int64  \n",
      " 1   season           1095 non-null   object \n",
      " 2   city             1044 non-null   object \n",
      " 3   date             1095 non-null   object \n",
      " 4   match_type       1095 non-null   object \n",
      " 5   player_of_match  1090 non-null   object \n",
      " 6   venue            1095 non-null   object \n",
      " 7   team1            1095 non-null   object \n",
      " 8   team2            1095 non-null   object \n",
      " 9   toss_winner      1095 non-null   object \n",
      " 10  toss_decision    1095 non-null   object \n",
      " 11  winner           1090 non-null   object \n",
      " 12  result           1095 non-null   object \n",
      " 13  result_margin    1076 non-null   float64\n",
      " 14  target_runs      1092 non-null   float64\n",
      " 15  target_overs     1092 non-null   float64\n",
      " 16  super_over       1095 non-null   object \n",
      " 17  method           21 non-null     object \n",
      " 18  umpire1          1095 non-null   object \n",
      " 19  umpire2          1095 non-null   object \n",
      "dtypes: float64(3), int64(1), object(16)\n",
      "memory usage: 171.2+ KB\n"
     ]
    }
   ],
   "source": [
    "df.info()"
   ]
  },
  {
   "cell_type": "markdown",
   "id": "b616f7fa-3fba-410c-a536-ad86d506597c",
   "metadata": {},
   "source": [
    "### Treating Null Values "
   ]
  },
  {
   "cell_type": "code",
   "execution_count": 196,
   "id": "3df7d2ee-f2c1-4d35-9a53-07cb09d1f688",
   "metadata": {},
   "outputs": [
    {
     "data": {
      "text/plain": [
       "id                    0\n",
       "season                0\n",
       "city                 51\n",
       "date                  0\n",
       "match_type            0\n",
       "player_of_match       5\n",
       "venue                 0\n",
       "team1                 0\n",
       "team2                 0\n",
       "toss_winner           0\n",
       "toss_decision         0\n",
       "winner                5\n",
       "result                0\n",
       "result_margin        19\n",
       "target_runs           3\n",
       "target_overs          3\n",
       "super_over            0\n",
       "method             1074\n",
       "umpire1               0\n",
       "umpire2               0\n",
       "dtype: int64"
      ]
     },
     "execution_count": 196,
     "metadata": {},
     "output_type": "execute_result"
    }
   ],
   "source": [
    "df.isnull().sum() # Let's find how many null values does the dataset columns have? "
   ]
  },
  {
   "attachments": {},
   "cell_type": "markdown",
   "id": "365e2061-1005-44a3-a16d-2820d46fa247",
   "metadata": {},
   "source": [
    "### Here we fill all the null values in the columns: \n",
    "* City\n",
    "* Player_of_Match\n",
    "* Winner\n",
    "* Result_Margin\n",
    "* Target_Runs\n",
    "* Target_Overs\n",
    "* Method  "
   ]
  },
  {
   "cell_type": "code",
   "execution_count": 198,
   "id": "c3349dfe-cafe-4a35-aa5d-10fed1bfc03c",
   "metadata": {},
   "outputs": [
    {
     "data": {
      "text/plain": [
       "array(['Bangalore', 'Chandigarh', 'Delhi', 'Mumbai', 'Kolkata', 'Jaipur',\n",
       "       'Hyderabad', 'Chennai', 'Cape Town', 'Port Elizabeth', 'Durban',\n",
       "       'Centurion', 'East London', 'Johannesburg', 'Kimberley',\n",
       "       'Bloemfontein', 'Ahmedabad', 'Cuttack', 'Nagpur', 'Dharamsala',\n",
       "       'Kochi', 'Indore', 'Visakhapatnam', 'Pune', 'Raipur', 'Ranchi',\n",
       "       'Abu Dhabi', nan, 'Rajkot', 'Kanpur', 'Bengaluru', 'Dubai',\n",
       "       'Sharjah', 'Navi Mumbai', 'Lucknow', 'Guwahati', 'Mohali'],\n",
       "      dtype=object)"
      ]
     },
     "execution_count": 198,
     "metadata": {},
     "output_type": "execute_result"
    }
   ],
   "source": [
    "#Let's remove the null values from \"city\" columns\n",
    "df['city'].unique()"
   ]
  },
  {
   "cell_type": "code",
   "execution_count": 199,
   "id": "cd30a78f-3363-466b-b316-70b0ba1f2136",
   "metadata": {},
   "outputs": [
    {
     "data": {
      "text/html": [
       "<div>\n",
       "<style scoped>\n",
       "    .dataframe tbody tr th:only-of-type {\n",
       "        vertical-align: middle;\n",
       "    }\n",
       "\n",
       "    .dataframe tbody tr th {\n",
       "        vertical-align: top;\n",
       "    }\n",
       "\n",
       "    .dataframe thead th {\n",
       "        text-align: right;\n",
       "    }\n",
       "</style>\n",
       "<table border=\"1\" class=\"dataframe\">\n",
       "  <thead>\n",
       "    <tr style=\"text-align: right;\">\n",
       "      <th></th>\n",
       "      <th>date</th>\n",
       "      <th>venue</th>\n",
       "    </tr>\n",
       "  </thead>\n",
       "  <tbody>\n",
       "    <tr>\n",
       "      <th>399</th>\n",
       "      <td>2014-04-17</td>\n",
       "      <td>Sharjah Cricket Stadium</td>\n",
       "    </tr>\n",
       "    <tr>\n",
       "      <th>402</th>\n",
       "      <td>2014-04-19</td>\n",
       "      <td>Dubai International Cricket Stadium</td>\n",
       "    </tr>\n",
       "    <tr>\n",
       "      <th>403</th>\n",
       "      <td>2014-04-19</td>\n",
       "      <td>Dubai International Cricket Stadium</td>\n",
       "    </tr>\n",
       "    <tr>\n",
       "      <th>404</th>\n",
       "      <td>2014-04-20</td>\n",
       "      <td>Sharjah Cricket Stadium</td>\n",
       "    </tr>\n",
       "    <tr>\n",
       "      <th>406</th>\n",
       "      <td>2014-04-22</td>\n",
       "      <td>Sharjah Cricket Stadium</td>\n",
       "    </tr>\n",
       "    <tr>\n",
       "      <th>407</th>\n",
       "      <td>2014-04-23</td>\n",
       "      <td>Dubai International Cricket Stadium</td>\n",
       "    </tr>\n",
       "    <tr>\n",
       "      <th>408</th>\n",
       "      <td>2014-04-24</td>\n",
       "      <td>Sharjah Cricket Stadium</td>\n",
       "    </tr>\n",
       "    <tr>\n",
       "      <th>409</th>\n",
       "      <td>2014-04-25</td>\n",
       "      <td>Dubai International Cricket Stadium</td>\n",
       "    </tr>\n",
       "    <tr>\n",
       "      <th>410</th>\n",
       "      <td>2014-04-25</td>\n",
       "      <td>Dubai International Cricket Stadium</td>\n",
       "    </tr>\n",
       "    <tr>\n",
       "      <th>413</th>\n",
       "      <td>2014-04-27</td>\n",
       "      <td>Sharjah Cricket Stadium</td>\n",
       "    </tr>\n",
       "    <tr>\n",
       "      <th>414</th>\n",
       "      <td>2014-04-27</td>\n",
       "      <td>Sharjah Cricket Stadium</td>\n",
       "    </tr>\n",
       "    <tr>\n",
       "      <th>415</th>\n",
       "      <td>2014-04-28</td>\n",
       "      <td>Dubai International Cricket Stadium</td>\n",
       "    </tr>\n",
       "    <tr>\n",
       "      <th>417</th>\n",
       "      <td>2014-04-30</td>\n",
       "      <td>Dubai International Cricket Stadium</td>\n",
       "    </tr>\n",
       "    <tr>\n",
       "      <th>757</th>\n",
       "      <td>2020-09-20</td>\n",
       "      <td>Dubai International Cricket Stadium</td>\n",
       "    </tr>\n",
       "    <tr>\n",
       "      <th>758</th>\n",
       "      <td>2020-09-21</td>\n",
       "      <td>Dubai International Cricket Stadium</td>\n",
       "    </tr>\n",
       "    <tr>\n",
       "      <th>759</th>\n",
       "      <td>2020-09-22</td>\n",
       "      <td>Sharjah Cricket Stadium</td>\n",
       "    </tr>\n",
       "    <tr>\n",
       "      <th>761</th>\n",
       "      <td>2020-09-24</td>\n",
       "      <td>Dubai International Cricket Stadium</td>\n",
       "    </tr>\n",
       "    <tr>\n",
       "      <th>762</th>\n",
       "      <td>2020-09-25</td>\n",
       "      <td>Dubai International Cricket Stadium</td>\n",
       "    </tr>\n",
       "    <tr>\n",
       "      <th>764</th>\n",
       "      <td>2020-09-27</td>\n",
       "      <td>Sharjah Cricket Stadium</td>\n",
       "    </tr>\n",
       "    <tr>\n",
       "      <th>765</th>\n",
       "      <td>2020-09-28</td>\n",
       "      <td>Dubai International Cricket Stadium</td>\n",
       "    </tr>\n",
       "    <tr>\n",
       "      <th>767</th>\n",
       "      <td>2020-09-30</td>\n",
       "      <td>Dubai International Cricket Stadium</td>\n",
       "    </tr>\n",
       "    <tr>\n",
       "      <th>769</th>\n",
       "      <td>2020-10-02</td>\n",
       "      <td>Dubai International Cricket Stadium</td>\n",
       "    </tr>\n",
       "    <tr>\n",
       "      <th>771</th>\n",
       "      <td>2020-10-03</td>\n",
       "      <td>Sharjah Cricket Stadium</td>\n",
       "    </tr>\n",
       "    <tr>\n",
       "      <th>772</th>\n",
       "      <td>2020-10-04</td>\n",
       "      <td>Dubai International Cricket Stadium</td>\n",
       "    </tr>\n",
       "    <tr>\n",
       "      <th>773</th>\n",
       "      <td>2020-10-04</td>\n",
       "      <td>Sharjah Cricket Stadium</td>\n",
       "    </tr>\n",
       "    <tr>\n",
       "      <th>774</th>\n",
       "      <td>2020-10-05</td>\n",
       "      <td>Dubai International Cricket Stadium</td>\n",
       "    </tr>\n",
       "    <tr>\n",
       "      <th>777</th>\n",
       "      <td>2020-10-08</td>\n",
       "      <td>Dubai International Cricket Stadium</td>\n",
       "    </tr>\n",
       "    <tr>\n",
       "      <th>778</th>\n",
       "      <td>2020-10-09</td>\n",
       "      <td>Sharjah Cricket Stadium</td>\n",
       "    </tr>\n",
       "    <tr>\n",
       "      <th>780</th>\n",
       "      <td>2020-10-10</td>\n",
       "      <td>Dubai International Cricket Stadium</td>\n",
       "    </tr>\n",
       "    <tr>\n",
       "      <th>781</th>\n",
       "      <td>2020-10-11</td>\n",
       "      <td>Dubai International Cricket Stadium</td>\n",
       "    </tr>\n",
       "    <tr>\n",
       "      <th>783</th>\n",
       "      <td>2020-10-12</td>\n",
       "      <td>Sharjah Cricket Stadium</td>\n",
       "    </tr>\n",
       "    <tr>\n",
       "      <th>784</th>\n",
       "      <td>2020-10-13</td>\n",
       "      <td>Dubai International Cricket Stadium</td>\n",
       "    </tr>\n",
       "    <tr>\n",
       "      <th>785</th>\n",
       "      <td>2020-10-14</td>\n",
       "      <td>Dubai International Cricket Stadium</td>\n",
       "    </tr>\n",
       "    <tr>\n",
       "      <th>786</th>\n",
       "      <td>2020-10-15</td>\n",
       "      <td>Sharjah Cricket Stadium</td>\n",
       "    </tr>\n",
       "    <tr>\n",
       "      <th>788</th>\n",
       "      <td>2020-10-17</td>\n",
       "      <td>Sharjah Cricket Stadium</td>\n",
       "    </tr>\n",
       "    <tr>\n",
       "      <th>789</th>\n",
       "      <td>2020-10-17</td>\n",
       "      <td>Dubai International Cricket Stadium</td>\n",
       "    </tr>\n",
       "    <tr>\n",
       "      <th>791</th>\n",
       "      <td>2020-10-18</td>\n",
       "      <td>Dubai International Cricket Stadium</td>\n",
       "    </tr>\n",
       "    <tr>\n",
       "      <th>793</th>\n",
       "      <td>2020-10-20</td>\n",
       "      <td>Dubai International Cricket Stadium</td>\n",
       "    </tr>\n",
       "    <tr>\n",
       "      <th>795</th>\n",
       "      <td>2020-10-22</td>\n",
       "      <td>Dubai International Cricket Stadium</td>\n",
       "    </tr>\n",
       "    <tr>\n",
       "      <th>796</th>\n",
       "      <td>2020-10-23</td>\n",
       "      <td>Sharjah Cricket Stadium</td>\n",
       "    </tr>\n",
       "    <tr>\n",
       "      <th>798</th>\n",
       "      <td>2020-10-24</td>\n",
       "      <td>Dubai International Cricket Stadium</td>\n",
       "    </tr>\n",
       "    <tr>\n",
       "      <th>800</th>\n",
       "      <td>2020-10-25</td>\n",
       "      <td>Dubai International Cricket Stadium</td>\n",
       "    </tr>\n",
       "    <tr>\n",
       "      <th>801</th>\n",
       "      <td>2020-10-26</td>\n",
       "      <td>Sharjah Cricket Stadium</td>\n",
       "    </tr>\n",
       "    <tr>\n",
       "      <th>802</th>\n",
       "      <td>2020-10-27</td>\n",
       "      <td>Dubai International Cricket Stadium</td>\n",
       "    </tr>\n",
       "    <tr>\n",
       "      <th>804</th>\n",
       "      <td>2020-10-29</td>\n",
       "      <td>Dubai International Cricket Stadium</td>\n",
       "    </tr>\n",
       "    <tr>\n",
       "      <th>806</th>\n",
       "      <td>2020-10-31</td>\n",
       "      <td>Sharjah Cricket Stadium</td>\n",
       "    </tr>\n",
       "    <tr>\n",
       "      <th>807</th>\n",
       "      <td>2020-10-31</td>\n",
       "      <td>Dubai International Cricket Stadium</td>\n",
       "    </tr>\n",
       "    <tr>\n",
       "      <th>809</th>\n",
       "      <td>2020-11-01</td>\n",
       "      <td>Dubai International Cricket Stadium</td>\n",
       "    </tr>\n",
       "    <tr>\n",
       "      <th>811</th>\n",
       "      <td>2020-11-03</td>\n",
       "      <td>Sharjah Cricket Stadium</td>\n",
       "    </tr>\n",
       "    <tr>\n",
       "      <th>812</th>\n",
       "      <td>2020-11-05</td>\n",
       "      <td>Dubai International Cricket Stadium</td>\n",
       "    </tr>\n",
       "    <tr>\n",
       "      <th>815</th>\n",
       "      <td>2020-11-10</td>\n",
       "      <td>Dubai International Cricket Stadium</td>\n",
       "    </tr>\n",
       "  </tbody>\n",
       "</table>\n",
       "</div>"
      ],
      "text/plain": [
       "           date                                venue\n",
       "399  2014-04-17              Sharjah Cricket Stadium\n",
       "402  2014-04-19  Dubai International Cricket Stadium\n",
       "403  2014-04-19  Dubai International Cricket Stadium\n",
       "404  2014-04-20              Sharjah Cricket Stadium\n",
       "406  2014-04-22              Sharjah Cricket Stadium\n",
       "407  2014-04-23  Dubai International Cricket Stadium\n",
       "408  2014-04-24              Sharjah Cricket Stadium\n",
       "409  2014-04-25  Dubai International Cricket Stadium\n",
       "410  2014-04-25  Dubai International Cricket Stadium\n",
       "413  2014-04-27              Sharjah Cricket Stadium\n",
       "414  2014-04-27              Sharjah Cricket Stadium\n",
       "415  2014-04-28  Dubai International Cricket Stadium\n",
       "417  2014-04-30  Dubai International Cricket Stadium\n",
       "757  2020-09-20  Dubai International Cricket Stadium\n",
       "758  2020-09-21  Dubai International Cricket Stadium\n",
       "759  2020-09-22              Sharjah Cricket Stadium\n",
       "761  2020-09-24  Dubai International Cricket Stadium\n",
       "762  2020-09-25  Dubai International Cricket Stadium\n",
       "764  2020-09-27              Sharjah Cricket Stadium\n",
       "765  2020-09-28  Dubai International Cricket Stadium\n",
       "767  2020-09-30  Dubai International Cricket Stadium\n",
       "769  2020-10-02  Dubai International Cricket Stadium\n",
       "771  2020-10-03              Sharjah Cricket Stadium\n",
       "772  2020-10-04  Dubai International Cricket Stadium\n",
       "773  2020-10-04              Sharjah Cricket Stadium\n",
       "774  2020-10-05  Dubai International Cricket Stadium\n",
       "777  2020-10-08  Dubai International Cricket Stadium\n",
       "778  2020-10-09              Sharjah Cricket Stadium\n",
       "780  2020-10-10  Dubai International Cricket Stadium\n",
       "781  2020-10-11  Dubai International Cricket Stadium\n",
       "783  2020-10-12              Sharjah Cricket Stadium\n",
       "784  2020-10-13  Dubai International Cricket Stadium\n",
       "785  2020-10-14  Dubai International Cricket Stadium\n",
       "786  2020-10-15              Sharjah Cricket Stadium\n",
       "788  2020-10-17              Sharjah Cricket Stadium\n",
       "789  2020-10-17  Dubai International Cricket Stadium\n",
       "791  2020-10-18  Dubai International Cricket Stadium\n",
       "793  2020-10-20  Dubai International Cricket Stadium\n",
       "795  2020-10-22  Dubai International Cricket Stadium\n",
       "796  2020-10-23              Sharjah Cricket Stadium\n",
       "798  2020-10-24  Dubai International Cricket Stadium\n",
       "800  2020-10-25  Dubai International Cricket Stadium\n",
       "801  2020-10-26              Sharjah Cricket Stadium\n",
       "802  2020-10-27  Dubai International Cricket Stadium\n",
       "804  2020-10-29  Dubai International Cricket Stadium\n",
       "806  2020-10-31              Sharjah Cricket Stadium\n",
       "807  2020-10-31  Dubai International Cricket Stadium\n",
       "809  2020-11-01  Dubai International Cricket Stadium\n",
       "811  2020-11-03              Sharjah Cricket Stadium\n",
       "812  2020-11-05  Dubai International Cricket Stadium\n",
       "815  2020-11-10  Dubai International Cricket Stadium"
      ]
     },
     "execution_count": 199,
     "metadata": {},
     "output_type": "execute_result"
    }
   ],
   "source": [
    "# Here we can observe that city cells are blank in year 2014 and 2020 i.e., when the IPL has been scheduled in UAE, so let's fill the city accordingly  \n",
    "\n",
    "df[df['city'].isna()].loc[:,['date','venue']]"
   ]
  },
  {
   "cell_type": "code",
   "execution_count": 200,
   "id": "32baf8a7-7141-4371-91ee-5438d3aa61ee",
   "metadata": {},
   "outputs": [],
   "source": [
    "df.loc[(df['venue']=='Sharjah Cricket Stadium') & (df['city'].isnull()),'city']='Sharjah'       \n",
    "df.loc[(df['venue']=='Dubai International Cricket Stadium') & (df['city'].isnull()),'city']='Dubai'"
   ]
  },
  {
   "cell_type": "code",
   "execution_count": 201,
   "id": "4d437927-70da-4136-998e-ad9d2d0c2680",
   "metadata": {},
   "outputs": [
    {
     "data": {
      "text/plain": [
       "result\n",
       "no result                                                [nan]\n",
       "runs         [BB McCullum, MEK Hussey, ML Hayden, KC Sangak...\n",
       "tie          [YK Pathan, J Theron, GH Vihari, V Kohli, JP F...\n",
       "wickets      [MF Maharoof, MV Boucher, DJ Hussey, SR Watson...\n",
       "Name: player_of_match, dtype: object"
      ]
     },
     "execution_count": 201,
     "metadata": {},
     "output_type": "execute_result"
    }
   ],
   "source": [
    "df.groupby(\"result\")['player_of_match'].unique() #Here we can see that result which have null values are the matches which do not have specific result. So let's fill the null values with 'No Result'."
   ]
  },
  {
   "cell_type": "code",
   "execution_count": 202,
   "id": "01492111-d480-4436-9534-95f491c85c09",
   "metadata": {},
   "outputs": [],
   "source": [
    "df['player_of_match'].fillna(\"no result\", inplace =True)"
   ]
  },
  {
   "cell_type": "code",
   "execution_count": 203,
   "id": "eb869cc4-19b1-46b8-bb74-8aee752e8b62",
   "metadata": {},
   "outputs": [],
   "source": [
    "df['winner'].fillna(\"no result\", inplace =True)"
   ]
  },
  {
   "cell_type": "code",
   "execution_count": 204,
   "id": "84863e3d-4f38-4350-82a4-fa6f1ace2fc8",
   "metadata": {},
   "outputs": [
    {
     "data": {
      "text/html": [
       "<div>\n",
       "<style scoped>\n",
       "    .dataframe tbody tr th:only-of-type {\n",
       "        vertical-align: middle;\n",
       "    }\n",
       "\n",
       "    .dataframe tbody tr th {\n",
       "        vertical-align: top;\n",
       "    }\n",
       "\n",
       "    .dataframe thead th {\n",
       "        text-align: right;\n",
       "    }\n",
       "</style>\n",
       "<table border=\"1\" class=\"dataframe\">\n",
       "  <thead>\n",
       "    <tr style=\"text-align: right;\">\n",
       "      <th></th>\n",
       "      <th>id</th>\n",
       "      <th>season</th>\n",
       "      <th>city</th>\n",
       "      <th>date</th>\n",
       "      <th>match_type</th>\n",
       "      <th>player_of_match</th>\n",
       "      <th>venue</th>\n",
       "      <th>team1</th>\n",
       "      <th>team2</th>\n",
       "      <th>toss_winner</th>\n",
       "      <th>toss_decision</th>\n",
       "      <th>winner</th>\n",
       "      <th>result</th>\n",
       "      <th>result_margin</th>\n",
       "      <th>target_runs</th>\n",
       "      <th>target_overs</th>\n",
       "      <th>super_over</th>\n",
       "      <th>method</th>\n",
       "      <th>umpire1</th>\n",
       "      <th>umpire2</th>\n",
       "    </tr>\n",
       "  </thead>\n",
       "  <tbody>\n",
       "    <tr>\n",
       "      <th>0</th>\n",
       "      <td>335982</td>\n",
       "      <td>2007/08</td>\n",
       "      <td>Bangalore</td>\n",
       "      <td>2008-04-18</td>\n",
       "      <td>League</td>\n",
       "      <td>BB McCullum</td>\n",
       "      <td>M Chinnaswamy Stadium</td>\n",
       "      <td>Royal Challengers Bangalore</td>\n",
       "      <td>Kolkata Knight Riders</td>\n",
       "      <td>Royal Challengers Bangalore</td>\n",
       "      <td>field</td>\n",
       "      <td>Kolkata Knight Riders</td>\n",
       "      <td>runs</td>\n",
       "      <td>140.0</td>\n",
       "      <td>223.0</td>\n",
       "      <td>20.0</td>\n",
       "      <td>N</td>\n",
       "      <td>NaN</td>\n",
       "      <td>Asad Rauf</td>\n",
       "      <td>RE Koertzen</td>\n",
       "    </tr>\n",
       "    <tr>\n",
       "      <th>1</th>\n",
       "      <td>335983</td>\n",
       "      <td>2007/08</td>\n",
       "      <td>Chandigarh</td>\n",
       "      <td>2008-04-19</td>\n",
       "      <td>League</td>\n",
       "      <td>MEK Hussey</td>\n",
       "      <td>Punjab Cricket Association Stadium, Mohali</td>\n",
       "      <td>Kings XI Punjab</td>\n",
       "      <td>Chennai Super Kings</td>\n",
       "      <td>Chennai Super Kings</td>\n",
       "      <td>bat</td>\n",
       "      <td>Chennai Super Kings</td>\n",
       "      <td>runs</td>\n",
       "      <td>33.0</td>\n",
       "      <td>241.0</td>\n",
       "      <td>20.0</td>\n",
       "      <td>N</td>\n",
       "      <td>NaN</td>\n",
       "      <td>MR Benson</td>\n",
       "      <td>SL Shastri</td>\n",
       "    </tr>\n",
       "    <tr>\n",
       "      <th>2</th>\n",
       "      <td>335984</td>\n",
       "      <td>2007/08</td>\n",
       "      <td>Delhi</td>\n",
       "      <td>2008-04-19</td>\n",
       "      <td>League</td>\n",
       "      <td>MF Maharoof</td>\n",
       "      <td>Feroz Shah Kotla</td>\n",
       "      <td>Delhi Daredevils</td>\n",
       "      <td>Rajasthan Royals</td>\n",
       "      <td>Rajasthan Royals</td>\n",
       "      <td>bat</td>\n",
       "      <td>Delhi Daredevils</td>\n",
       "      <td>wickets</td>\n",
       "      <td>9.0</td>\n",
       "      <td>130.0</td>\n",
       "      <td>20.0</td>\n",
       "      <td>N</td>\n",
       "      <td>NaN</td>\n",
       "      <td>Aleem Dar</td>\n",
       "      <td>GA Pratapkumar</td>\n",
       "    </tr>\n",
       "    <tr>\n",
       "      <th>3</th>\n",
       "      <td>335985</td>\n",
       "      <td>2007/08</td>\n",
       "      <td>Mumbai</td>\n",
       "      <td>2008-04-20</td>\n",
       "      <td>League</td>\n",
       "      <td>MV Boucher</td>\n",
       "      <td>Wankhede Stadium</td>\n",
       "      <td>Mumbai Indians</td>\n",
       "      <td>Royal Challengers Bangalore</td>\n",
       "      <td>Mumbai Indians</td>\n",
       "      <td>bat</td>\n",
       "      <td>Royal Challengers Bangalore</td>\n",
       "      <td>wickets</td>\n",
       "      <td>5.0</td>\n",
       "      <td>166.0</td>\n",
       "      <td>20.0</td>\n",
       "      <td>N</td>\n",
       "      <td>NaN</td>\n",
       "      <td>SJ Davis</td>\n",
       "      <td>DJ Harper</td>\n",
       "    </tr>\n",
       "    <tr>\n",
       "      <th>4</th>\n",
       "      <td>335986</td>\n",
       "      <td>2007/08</td>\n",
       "      <td>Kolkata</td>\n",
       "      <td>2008-04-20</td>\n",
       "      <td>League</td>\n",
       "      <td>DJ Hussey</td>\n",
       "      <td>Eden Gardens</td>\n",
       "      <td>Kolkata Knight Riders</td>\n",
       "      <td>Deccan Chargers</td>\n",
       "      <td>Deccan Chargers</td>\n",
       "      <td>bat</td>\n",
       "      <td>Kolkata Knight Riders</td>\n",
       "      <td>wickets</td>\n",
       "      <td>5.0</td>\n",
       "      <td>111.0</td>\n",
       "      <td>20.0</td>\n",
       "      <td>N</td>\n",
       "      <td>NaN</td>\n",
       "      <td>BF Bowden</td>\n",
       "      <td>K Hariharan</td>\n",
       "    </tr>\n",
       "  </tbody>\n",
       "</table>\n",
       "</div>"
      ],
      "text/plain": [
       "       id   season        city        date match_type player_of_match  \\\n",
       "0  335982  2007/08   Bangalore  2008-04-18     League     BB McCullum   \n",
       "1  335983  2007/08  Chandigarh  2008-04-19     League      MEK Hussey   \n",
       "2  335984  2007/08       Delhi  2008-04-19     League     MF Maharoof   \n",
       "3  335985  2007/08      Mumbai  2008-04-20     League      MV Boucher   \n",
       "4  335986  2007/08     Kolkata  2008-04-20     League       DJ Hussey   \n",
       "\n",
       "                                        venue                        team1  \\\n",
       "0                       M Chinnaswamy Stadium  Royal Challengers Bangalore   \n",
       "1  Punjab Cricket Association Stadium, Mohali              Kings XI Punjab   \n",
       "2                            Feroz Shah Kotla             Delhi Daredevils   \n",
       "3                            Wankhede Stadium               Mumbai Indians   \n",
       "4                                Eden Gardens        Kolkata Knight Riders   \n",
       "\n",
       "                         team2                  toss_winner toss_decision  \\\n",
       "0        Kolkata Knight Riders  Royal Challengers Bangalore         field   \n",
       "1          Chennai Super Kings          Chennai Super Kings           bat   \n",
       "2             Rajasthan Royals             Rajasthan Royals           bat   \n",
       "3  Royal Challengers Bangalore               Mumbai Indians           bat   \n",
       "4              Deccan Chargers              Deccan Chargers           bat   \n",
       "\n",
       "                        winner   result  result_margin  target_runs  \\\n",
       "0        Kolkata Knight Riders     runs          140.0        223.0   \n",
       "1          Chennai Super Kings     runs           33.0        241.0   \n",
       "2             Delhi Daredevils  wickets            9.0        130.0   \n",
       "3  Royal Challengers Bangalore  wickets            5.0        166.0   \n",
       "4        Kolkata Knight Riders  wickets            5.0        111.0   \n",
       "\n",
       "   target_overs super_over method    umpire1         umpire2  \n",
       "0          20.0          N    NaN  Asad Rauf     RE Koertzen  \n",
       "1          20.0          N    NaN  MR Benson      SL Shastri  \n",
       "2          20.0          N    NaN  Aleem Dar  GA Pratapkumar  \n",
       "3          20.0          N    NaN   SJ Davis       DJ Harper  \n",
       "4          20.0          N    NaN  BF Bowden     K Hariharan  "
      ]
     },
     "execution_count": 204,
     "metadata": {},
     "output_type": "execute_result"
    }
   ],
   "source": [
    "df.head()"
   ]
  },
  {
   "cell_type": "code",
   "execution_count": 205,
   "id": "b7d15111-fec7-4265-8d19-415432ee239e",
   "metadata": {},
   "outputs": [],
   "source": [
    "# Calculate mean values\n",
    "mean_runs = df.loc[df['result'] == 'runs', 'result_margin'].dropna().mean()\n",
    "mean_wickets = df.loc[df['result'] == 'wickets', 'result_margin'].dropna().mean()\n",
    "\n",
    "# Replace null values in result_margin\n",
    "df.loc[(df['result'] == 'runs') & (df['result_margin'].isnull()), 'result_margin'] = mean_runs\n",
    "df.loc[(df['result'] == 'wickets') & (df['result_margin'].isnull()), 'result_margin'] = mean_wickets"
   ]
  },
  {
   "cell_type": "code",
   "execution_count": 206,
   "id": "24948d17-17bf-44ee-a028-a25c49059ffe",
   "metadata": {},
   "outputs": [],
   "source": [
    "df['target_runs'].fillna(df['target_runs'].mean(), inplace =True)"
   ]
  },
  {
   "cell_type": "code",
   "execution_count": 207,
   "id": "647ef42e-4366-4ef8-b046-8cbcc12dbb7c",
   "metadata": {},
   "outputs": [],
   "source": [
    "df['target_overs'].fillna(df['target_overs'].mean(), inplace =True)"
   ]
  },
  {
   "cell_type": "code",
   "execution_count": 208,
   "id": "3690758c-cd40-44d3-9acb-4d5345df2292",
   "metadata": {},
   "outputs": [],
   "source": [
    "# Here we are replacing the old team names to that of new team names.\n",
    "\n",
    "columns_to_update = ['team1', 'team2', 'toss_winner', 'winner']\n",
    "\n",
    "for i in columns_to_update:\n",
    "    df[i]=df[i].replace(\"Royal Challengers Bangalore\",\"Royal Challengers Bengaluru\")"
   ]
  },
  {
   "cell_type": "code",
   "execution_count": 209,
   "id": "5202c941-d599-42cf-8ecd-7f64712bb05c",
   "metadata": {},
   "outputs": [],
   "source": [
    "columns_to_update = ['team1', 'team2', 'toss_winner', 'winner']\n",
    "\n",
    "for i in columns_to_update:\n",
    "    df[i]=df[i].replace(\"Kings XI Punjab\",\"Punjab Kings\")"
   ]
  },
  {
   "cell_type": "code",
   "execution_count": 210,
   "id": "49a3938c-0681-4f7f-b160-315d08c31360",
   "metadata": {},
   "outputs": [],
   "source": [
    "columns_to_update = ['team1', 'team2', 'toss_winner', 'winner']\n",
    "\n",
    "for i in columns_to_update:\n",
    "    df[i]=df[i].replace(\"Delhi Daredevils\",\"Delhi Capitals\")"
   ]
  },
  {
   "cell_type": "code",
   "execution_count": 211,
   "id": "a91113da-d3db-4a8d-ae2e-1ad0170c02de",
   "metadata": {},
   "outputs": [],
   "source": [
    "columns_to_update = ['team1', 'team2', 'toss_winner', 'winner']\n",
    "\n",
    "for i in columns_to_update:\n",
    "    df[i]=df[i].replace(\"Rising Pune Supergiant\",\"Rising Pune Supergiants\")"
   ]
  },
  {
   "cell_type": "code",
   "execution_count": 212,
   "id": "ca8108e0-5d67-4357-be62-83afa25ac214",
   "metadata": {},
   "outputs": [
    {
     "data": {
      "text/plain": [
       "winner\n",
       "Mumbai Indians                 144\n",
       "Chennai Super Kings            138\n",
       "Kolkata Knight Riders          131\n",
       "Royal Challengers Bengaluru    123\n",
       "Delhi Capitals                 115\n",
       "Rajasthan Royals               112\n",
       "Punjab Kings                   112\n",
       "Sunrisers Hyderabad             88\n",
       "Deccan Chargers                 29\n",
       "Gujarat Titans                  28\n",
       "Lucknow Super Giants            24\n",
       "Rising Pune Supergiants         15\n",
       "Gujarat Lions                   13\n",
       "Pune Warriors                   12\n",
       "Kochi Tuskers Kerala             6\n",
       "no result                        5\n",
       "Name: count, dtype: int64"
      ]
     },
     "execution_count": 212,
     "metadata": {},
     "output_type": "execute_result"
    }
   ],
   "source": [
    "df['winner'].value_counts()  # Let's check if we got all the names right and latest. "
   ]
  },
  {
   "cell_type": "code",
   "execution_count": 213,
   "id": "83b82f44-6a71-41c3-afc9-f48457eba274",
   "metadata": {},
   "outputs": [
    {
     "data": {
      "text/plain": [
       "method\n",
       "D/L    21\n",
       "Name: count, dtype: int64"
      ]
     },
     "execution_count": 213,
     "metadata": {},
     "output_type": "execute_result"
    }
   ],
   "source": [
    "df['method'].value_counts() # Here we can see the method deals with whether the match has been decided on DLS basis or not. So let's fill the regular matches with the term 'Normal'."
   ]
  },
  {
   "cell_type": "code",
   "execution_count": 214,
   "id": "6f8841b2-2a33-4c3e-be50-ea631b74c4b0",
   "metadata": {},
   "outputs": [],
   "source": [
    "df['method'].fillna(\"Normal\", inplace =True) "
   ]
  },
  {
   "cell_type": "markdown",
   "id": "944b7178-acfc-46e5-87f7-d990941edd91",
   "metadata": {},
   "source": [
    "#### Here we can see that we've successfully removed all the null values from the dataset."
   ]
  },
  {
   "cell_type": "code",
   "execution_count": 216,
   "id": "cabe8b27-d7e8-4555-9f8d-873e82064da8",
   "metadata": {},
   "outputs": [
    {
     "data": {
      "text/plain": [
       "id                  0\n",
       "season              0\n",
       "city                0\n",
       "date                0\n",
       "match_type          0\n",
       "player_of_match     0\n",
       "venue               0\n",
       "team1               0\n",
       "team2               0\n",
       "toss_winner         0\n",
       "toss_decision       0\n",
       "winner              0\n",
       "result              0\n",
       "result_margin      19\n",
       "target_runs         0\n",
       "target_overs        0\n",
       "super_over          0\n",
       "method              0\n",
       "umpire1             0\n",
       "umpire2             0\n",
       "dtype: int64"
      ]
     },
     "execution_count": 216,
     "metadata": {},
     "output_type": "execute_result"
    }
   ],
   "source": [
    "df.isnull().sum() "
   ]
  },
  {
   "cell_type": "code",
   "execution_count": null,
   "id": "7277079f-3e4c-4821-a09e-698cdf645d79",
   "metadata": {},
   "outputs": [],
   "source": []
  },
  {
   "cell_type": "markdown",
   "id": "12599d90-7b13-493e-b478-219662f23895",
   "metadata": {},
   "source": [
    "### Section 1: Team Performance related questions"
   ]
  },
  {
   "cell_type": "markdown",
   "id": "a81f1cb0-b56f-4497-bcbd-4e4c331f2fe0",
   "metadata": {},
   "source": [
    "#### Ques1. Which team has won most finals?"
   ]
  },
  {
   "cell_type": "code",
   "execution_count": 221,
   "id": "64a2cf20-b94f-4445-bf9c-ff7b5107851f",
   "metadata": {},
   "outputs": [],
   "source": [
    "onlyfinals=df[df['match_type']=='Final']"
   ]
  },
  {
   "cell_type": "code",
   "execution_count": 222,
   "id": "15ee612f-a595-448d-a60b-dd1e18562c8b",
   "metadata": {
    "scrolled": true
   },
   "outputs": [
    {
     "name": "stdout",
     "output_type": "stream",
     "text": [
      "0    Chennai Super Kings\n",
      "1         Mumbai Indians\n",
      "Name: winner, dtype: object have won most finals 5\n"
     ]
    }
   ],
   "source": [
    "onlyfinals['winner'].value_counts()\n",
    "nofl=onlyfinals['winner'].value_counts().max()\n",
    "twfl=onlyfinals['winner'].mode()\n",
    "print(f\"{twfl} have won most finals {nofl}\")"
   ]
  },
  {
   "cell_type": "markdown",
   "id": "d0f9530c-42db-4ea2-801e-b9bef321cbe7",
   "metadata": {},
   "source": [
    "#### Ques2. Which team has won the most matches overall?\n"
   ]
  },
  {
   "cell_type": "code",
   "execution_count": 224,
   "id": "44694a0a-daff-4d1a-a2b5-9705dd01df04",
   "metadata": {},
   "outputs": [
    {
     "data": {
      "text/plain": [
       "result\n",
       "wickets    578\n",
       "runs       498\n",
       "Name: count, dtype: int64"
      ]
     },
     "execution_count": 224,
     "metadata": {},
     "output_type": "execute_result"
    }
   ],
   "source": [
    "#The dataset only contains the matches which have definite results \n",
    "ref_df=df.loc[(df['result']=='runs') | (df['result']=='wickets')] #refined data excluding the tie or super-over result\n",
    "ref_df['result'].value_counts()"
   ]
  },
  {
   "cell_type": "code",
   "execution_count": 225,
   "id": "f36dc0c3-6608-4214-9d17-d8f2c019f103",
   "metadata": {},
   "outputs": [
    {
     "data": {
      "text/plain": [
       "result\n",
       "wickets      578\n",
       "runs         498\n",
       "tie           14\n",
       "no result      5\n",
       "Name: count, dtype: int64"
      ]
     },
     "execution_count": 225,
     "metadata": {},
     "output_type": "execute_result"
    }
   ],
   "source": [
    "df['result'].value_counts()"
   ]
  },
  {
   "cell_type": "code",
   "execution_count": 226,
   "id": "466021d4-dbd6-485e-a5f5-7a778b48e242",
   "metadata": {},
   "outputs": [
    {
     "data": {
      "text/html": [
       "<div>\n",
       "<style scoped>\n",
       "    .dataframe tbody tr th:only-of-type {\n",
       "        vertical-align: middle;\n",
       "    }\n",
       "\n",
       "    .dataframe tbody tr th {\n",
       "        vertical-align: top;\n",
       "    }\n",
       "\n",
       "    .dataframe thead th {\n",
       "        text-align: right;\n",
       "    }\n",
       "</style>\n",
       "<table border=\"1\" class=\"dataframe\">\n",
       "  <thead>\n",
       "    <tr style=\"text-align: right;\">\n",
       "      <th></th>\n",
       "      <th>id</th>\n",
       "      <th>season</th>\n",
       "      <th>city</th>\n",
       "      <th>date</th>\n",
       "      <th>match_type</th>\n",
       "      <th>player_of_match</th>\n",
       "      <th>venue</th>\n",
       "      <th>team1</th>\n",
       "      <th>team2</th>\n",
       "      <th>toss_winner</th>\n",
       "      <th>toss_decision</th>\n",
       "      <th>winner</th>\n",
       "      <th>result</th>\n",
       "      <th>result_margin</th>\n",
       "      <th>target_runs</th>\n",
       "      <th>target_overs</th>\n",
       "      <th>super_over</th>\n",
       "      <th>method</th>\n",
       "      <th>umpire1</th>\n",
       "      <th>umpire2</th>\n",
       "    </tr>\n",
       "  </thead>\n",
       "  <tbody>\n",
       "    <tr>\n",
       "      <th>241</th>\n",
       "      <td>501265</td>\n",
       "      <td>2011</td>\n",
       "      <td>Delhi</td>\n",
       "      <td>2011-05-21</td>\n",
       "      <td>League</td>\n",
       "      <td>no result</td>\n",
       "      <td>Feroz Shah Kotla</td>\n",
       "      <td>Delhi Capitals</td>\n",
       "      <td>Pune Warriors</td>\n",
       "      <td>Delhi Capitals</td>\n",
       "      <td>bat</td>\n",
       "      <td>no result</td>\n",
       "      <td>no result</td>\n",
       "      <td>NaN</td>\n",
       "      <td>165.684066</td>\n",
       "      <td>19.759341</td>\n",
       "      <td>N</td>\n",
       "      <td>Normal</td>\n",
       "      <td>SS Hazare</td>\n",
       "      <td>RJ Tucker</td>\n",
       "    </tr>\n",
       "    <tr>\n",
       "      <th>485</th>\n",
       "      <td>829763</td>\n",
       "      <td>2015</td>\n",
       "      <td>Bangalore</td>\n",
       "      <td>2015-04-29</td>\n",
       "      <td>League</td>\n",
       "      <td>no result</td>\n",
       "      <td>M Chinnaswamy Stadium</td>\n",
       "      <td>Royal Challengers Bengaluru</td>\n",
       "      <td>Rajasthan Royals</td>\n",
       "      <td>Rajasthan Royals</td>\n",
       "      <td>field</td>\n",
       "      <td>no result</td>\n",
       "      <td>no result</td>\n",
       "      <td>NaN</td>\n",
       "      <td>165.684066</td>\n",
       "      <td>19.759341</td>\n",
       "      <td>N</td>\n",
       "      <td>Normal</td>\n",
       "      <td>JD Cloete</td>\n",
       "      <td>PG Pathak</td>\n",
       "    </tr>\n",
       "    <tr>\n",
       "      <th>511</th>\n",
       "      <td>829813</td>\n",
       "      <td>2015</td>\n",
       "      <td>Bangalore</td>\n",
       "      <td>2015-05-17</td>\n",
       "      <td>League</td>\n",
       "      <td>no result</td>\n",
       "      <td>M Chinnaswamy Stadium</td>\n",
       "      <td>Royal Challengers Bengaluru</td>\n",
       "      <td>Delhi Capitals</td>\n",
       "      <td>Royal Challengers Bengaluru</td>\n",
       "      <td>field</td>\n",
       "      <td>no result</td>\n",
       "      <td>no result</td>\n",
       "      <td>NaN</td>\n",
       "      <td>188.000000</td>\n",
       "      <td>20.000000</td>\n",
       "      <td>N</td>\n",
       "      <td>Normal</td>\n",
       "      <td>HDPK Dharmasena</td>\n",
       "      <td>K Srinivasan</td>\n",
       "    </tr>\n",
       "    <tr>\n",
       "      <th>744</th>\n",
       "      <td>1178424</td>\n",
       "      <td>2019</td>\n",
       "      <td>Bengaluru</td>\n",
       "      <td>2019-04-30</td>\n",
       "      <td>League</td>\n",
       "      <td>no result</td>\n",
       "      <td>M.Chinnaswamy Stadium</td>\n",
       "      <td>Royal Challengers Bengaluru</td>\n",
       "      <td>Rajasthan Royals</td>\n",
       "      <td>Rajasthan Royals</td>\n",
       "      <td>field</td>\n",
       "      <td>no result</td>\n",
       "      <td>no result</td>\n",
       "      <td>NaN</td>\n",
       "      <td>63.000000</td>\n",
       "      <td>5.000000</td>\n",
       "      <td>N</td>\n",
       "      <td>Normal</td>\n",
       "      <td>NJ Llong</td>\n",
       "      <td>UV Gandhe</td>\n",
       "    </tr>\n",
       "    <tr>\n",
       "      <th>994</th>\n",
       "      <td>1359519</td>\n",
       "      <td>2023</td>\n",
       "      <td>Lucknow</td>\n",
       "      <td>2023-05-03</td>\n",
       "      <td>League</td>\n",
       "      <td>no result</td>\n",
       "      <td>Bharat Ratna Shri Atal Bihari Vajpayee Ekana C...</td>\n",
       "      <td>Lucknow Super Giants</td>\n",
       "      <td>Chennai Super Kings</td>\n",
       "      <td>Chennai Super Kings</td>\n",
       "      <td>field</td>\n",
       "      <td>no result</td>\n",
       "      <td>no result</td>\n",
       "      <td>NaN</td>\n",
       "      <td>165.684066</td>\n",
       "      <td>19.759341</td>\n",
       "      <td>N</td>\n",
       "      <td>Normal</td>\n",
       "      <td>AK Chaudhary</td>\n",
       "      <td>NA Patwardhan</td>\n",
       "    </tr>\n",
       "  </tbody>\n",
       "</table>\n",
       "</div>"
      ],
      "text/plain": [
       "          id season       city        date match_type player_of_match  \\\n",
       "241   501265   2011      Delhi  2011-05-21     League       no result   \n",
       "485   829763   2015  Bangalore  2015-04-29     League       no result   \n",
       "511   829813   2015  Bangalore  2015-05-17     League       no result   \n",
       "744  1178424   2019  Bengaluru  2019-04-30     League       no result   \n",
       "994  1359519   2023    Lucknow  2023-05-03     League       no result   \n",
       "\n",
       "                                                 venue  \\\n",
       "241                                   Feroz Shah Kotla   \n",
       "485                              M Chinnaswamy Stadium   \n",
       "511                              M Chinnaswamy Stadium   \n",
       "744                              M.Chinnaswamy Stadium   \n",
       "994  Bharat Ratna Shri Atal Bihari Vajpayee Ekana C...   \n",
       "\n",
       "                           team1                team2  \\\n",
       "241               Delhi Capitals        Pune Warriors   \n",
       "485  Royal Challengers Bengaluru     Rajasthan Royals   \n",
       "511  Royal Challengers Bengaluru       Delhi Capitals   \n",
       "744  Royal Challengers Bengaluru     Rajasthan Royals   \n",
       "994         Lucknow Super Giants  Chennai Super Kings   \n",
       "\n",
       "                     toss_winner toss_decision     winner     result  \\\n",
       "241               Delhi Capitals           bat  no result  no result   \n",
       "485             Rajasthan Royals         field  no result  no result   \n",
       "511  Royal Challengers Bengaluru         field  no result  no result   \n",
       "744             Rajasthan Royals         field  no result  no result   \n",
       "994          Chennai Super Kings         field  no result  no result   \n",
       "\n",
       "     result_margin  target_runs  target_overs super_over  method  \\\n",
       "241            NaN   165.684066     19.759341          N  Normal   \n",
       "485            NaN   165.684066     19.759341          N  Normal   \n",
       "511            NaN   188.000000     20.000000          N  Normal   \n",
       "744            NaN    63.000000      5.000000          N  Normal   \n",
       "994            NaN   165.684066     19.759341          N  Normal   \n",
       "\n",
       "             umpire1        umpire2  \n",
       "241        SS Hazare      RJ Tucker  \n",
       "485        JD Cloete      PG Pathak  \n",
       "511  HDPK Dharmasena   K Srinivasan  \n",
       "744         NJ Llong      UV Gandhe  \n",
       "994     AK Chaudhary  NA Patwardhan  "
      ]
     },
     "execution_count": 226,
     "metadata": {},
     "output_type": "execute_result"
    }
   ],
   "source": [
    "No_result_matches = df[df['result']=='no result'] # This dataset has matches with no result that will be helpful in upcoming sections\n",
    "No_result_matches"
   ]
  },
  {
   "cell_type": "code",
   "execution_count": 227,
   "id": "2a1a23cb-7ce1-4372-a6dc-6ed55f257b21",
   "metadata": {},
   "outputs": [
    {
     "name": "stdout",
     "output_type": "stream",
     "text": [
      "Team Mumbai Indians has won the most matches i.e., 142 matches in the IPL history\n"
     ]
    }
   ],
   "source": [
    "wins_by_team =(ref_df['winner'].value_counts())\n",
    "team_wins=(ref_df['winner'].value_counts()).idxmax()\n",
    "no_of_matches=(ref_df['winner'].value_counts()).max()\n",
    "\n",
    "print(f\"Team {team_wins} has won the most matches i.e., {no_of_matches} matches in the IPL history\")"
   ]
  },
  {
   "cell_type": "markdown",
   "id": "5caed4c6-3bb1-4a0e-9bc4-98133845309b",
   "metadata": {},
   "source": [
    "#### Ques3. What is the win percentage of each team?"
   ]
  },
  {
   "cell_type": "code",
   "execution_count": 229,
   "id": "bf494470-3acd-4129-a1f3-6f69edd286ac",
   "metadata": {},
   "outputs": [
    {
     "data": {
      "text/plain": [
       "Gujarat Titans                 62.222222\n",
       "Chennai Super Kings            58.474576\n",
       "Lucknow Super Giants           55.813953\n",
       "Mumbai Indians                 55.252918\n",
       "Kolkata Knight Riders          52.631579\n",
       "Rajasthan Royals               50.925926\n",
       "Rising Pune Supergiants        50.000000\n",
       "Sunrisers Hyderabad            48.876404\n",
       "Royal Challengers Bengaluru    48.594378\n",
       "Delhi Capitals                 45.528455\n",
       "Punjab Kings                   45.041322\n",
       "Gujarat Lions                  44.827586\n",
       "Kochi Tuskers Kerala           42.857143\n",
       "Deccan Chargers                38.666667\n",
       "Pune Warriors                  26.666667\n",
       "Name: count, dtype: float64"
      ]
     },
     "execution_count": 229,
     "metadata": {},
     "output_type": "execute_result"
    }
   ],
   "source": [
    "total_matches = ref_df['team1'].value_counts() + ref_df['team2'].value_counts()\n",
    "total_matches.sort_values(ascending=False)\n",
    "win_perc=wins_by_team/total_matches*100\n",
    "win_perc.sort_values(ascending=False)"
   ]
  },
  {
   "cell_type": "markdown",
   "id": "a0810169-97ca-4f29-b568-696d102837bc",
   "metadata": {},
   "source": [
    "#### Ques4. Which team performs best at their home ground?"
   ]
  },
  {
   "cell_type": "code",
   "execution_count": 245,
   "id": "1d6056e0-8c8a-4ef8-9e31-dcd75e4035d1",
   "metadata": {},
   "outputs": [
    {
     "name": "stdout",
     "output_type": "stream",
     "text": [
      "['Bangalore' 'Chandigarh' 'Delhi' 'Mumbai' 'Kolkata' 'Jaipur' 'Hyderabad'\n",
      " 'Chennai' 'Cape Town' 'Port Elizabeth' 'Durban' 'Centurion' 'East London'\n",
      " 'Johannesburg' 'Kimberley' 'Bloemfontein' 'Ahmedabad' 'Cuttack' 'Nagpur'\n",
      " 'Dharamsala' 'Kochi' 'Indore' 'Visakhapatnam' 'Pune' 'Raipur' 'Ranchi'\n",
      " 'Abu Dhabi' 'Sharjah' 'Dubai' 'Rajkot' 'Kanpur' 'Bengaluru' 'Navi Mumbai'\n",
      " 'Lucknow' 'Guwahati' 'Mohali']\n",
      "['Kolkata Knight Riders' 'Chennai Super Kings' 'Delhi Capitals'\n",
      " 'Royal Challengers Bengaluru' 'Rajasthan Royals' 'Punjab Kings'\n",
      " 'Deccan Chargers' 'Mumbai Indians' 'Pune Warriors' 'Kochi Tuskers Kerala'\n",
      " 'Sunrisers Hyderabad' 'Rising Pune Supergiants' 'Gujarat Lions'\n",
      " 'Gujarat Titans' 'Lucknow Super Giants']\n"
     ]
    }
   ],
   "source": [
    "print(ref_df['city'].unique())  # Let's find out the unique cities and winners from the dataset \n",
    "print(ref_df['winner'].unique())"
   ]
  },
  {
   "cell_type": "code",
   "execution_count": 247,
   "id": "84bb94c6-e634-4074-a0d7-d4d4bc2340f3",
   "metadata": {},
   "outputs": [
    {
     "data": {
      "text/plain": [
       "winner\n",
       "Mumbai Indians           63\n",
       "Kolkata Knight Riders    52\n",
       "Chennai Super Kings      50\n",
       "Rajasthan Royals         37\n",
       "Delhi Capitals           36\n",
       "Sunrisers Hyderabad      35\n",
       "Gujarat Titans            9\n",
       "Lucknow Super Giants      7\n",
       "Punjab Kings              5\n",
       "Name: count, dtype: int64"
      ]
     },
     "execution_count": 247,
     "metadata": {},
     "output_type": "execute_result"
    }
   ],
   "source": [
    "home_grounds={\n",
    "    'Mumbai Indians': 'Mumbai',\n",
    "    'Chennai Super Kings': 'Chennai',\n",
    "    'Kolkata Knight Riders': 'Kolkata',\n",
    "    'Royal Challengers Bangalore': 'Bangalore',\n",
    "    'Delhi Capitals': 'Delhi',\n",
    "    'Sunrisers Hyderabad': 'Hyderabad',\n",
    "    'Punjab Kings': 'Dharamsala',\n",
    "    'Rajasthan Royals': 'Jaipur',\n",
    "    'Lucknow Super Giants': 'Lucknow',\n",
    "    'Gujarat Titans': 'Ahmedabad',\n",
    "    'Sunrisers Hyderabad': 'Hyderabad'\n",
    "}\n",
    "\n",
    "home_matches =ref_df[ref_df['winner'].map(home_grounds)==ref_df['city']]\n",
    "home_matches['winner'].value_counts()   # Here we've mapped the cities along with their homegrounds and concluded about the asked question."
   ]
  },
  {
   "cell_type": "markdown",
   "id": "42bb07f9-440c-4fe0-9c7e-c79a7da30029",
   "metadata": {},
   "source": [
    "## Section2: Player performance"
   ]
  },
  {
   "cell_type": "markdown",
   "id": "82435ebe-453a-4216-9dec-2954c3997c67",
   "metadata": {},
   "source": [
    "#### Ques5. Who are the top players with the most \"Player of the Match\" awards?\n"
   ]
  },
  {
   "cell_type": "code",
   "execution_count": 235,
   "id": "290d6dda-c490-44d3-a73f-0423ef60ac89",
   "metadata": {},
   "outputs": [
    {
     "name": "stdout",
     "output_type": "stream",
     "text": [
      "The top player is AB de Villiers with 25 Player of the match awards\n"
     ]
    }
   ],
   "source": [
    "top_players=df['player_of_match'].value_counts()\n",
    "top_player=top_players.idxmax()\n",
    "most_awards = top_players.max()\n",
    "top_player\n",
    "print(f\"The top player is {top_player} with {most_awards} Player of the match awards\")"
   ]
  },
  {
   "cell_type": "code",
   "execution_count": 458,
   "id": "94e9e933-12df-4e55-af53-820e9b4e3583",
   "metadata": {},
   "outputs": [
    {
     "data": {
      "image/png": "[encoded data removed]",
      "text/plain": [
       "<Figure size 1000x600 with 1 Axes>"
      ]
     },
     "metadata": {},
     "output_type": "display_data"
    }
   ],
   "source": [
    "most_awards=df['player_of_match'].value_counts()  # This visualization will give you the top 10 players who have won the most player of the match awards\n",
    "top_10_players = most_awards.head(10)\n",
    "\n",
    "plt.figure(figsize=(10, 6))\n",
    "top_10_players.plot(kind='bar', color='orange', edgecolor='black')\n",
    "plt.title('Top 10 Players with the Most Player of the Match Awards')\n",
    "plt.xlabel('Players')\n",
    "plt.ylabel('Number of Awards')\n",
    "plt.xticks(rotation=45)\n",
    "plt.grid(axis='y', linestyle='--', alpha=0.7)\n",
    "plt.tight_layout()\n",
    "plt.show()"
   ]
  },
  {
   "cell_type": "markdown",
   "id": "0935d29a-49b6-44af-81ba-ec09e4e35e7b",
   "metadata": {},
   "source": [
    "#### Ques6 - Does a particular player’s performance correlate with team victories in certain venues or cities?"
   ]
  },
  {
   "cell_type": "code",
   "execution_count": 251,
   "id": "e2cd0fbd-62b7-4178-8b2d-2086b13ede2a",
   "metadata": {},
   "outputs": [
    {
     "data": {
      "text/html": [
       "<div>\n",
       "<style scoped>\n",
       "    .dataframe tbody tr th:only-of-type {\n",
       "        vertical-align: middle;\n",
       "    }\n",
       "\n",
       "    .dataframe tbody tr th {\n",
       "        vertical-align: top;\n",
       "    }\n",
       "\n",
       "    .dataframe thead th {\n",
       "        text-align: right;\n",
       "    }\n",
       "</style>\n",
       "<table border=\"1\" class=\"dataframe\">\n",
       "  <thead>\n",
       "    <tr style=\"text-align: right;\">\n",
       "      <th></th>\n",
       "      <th>player_of_match</th>\n",
       "      <th>winner</th>\n",
       "      <th>venue</th>\n",
       "      <th>count</th>\n",
       "    </tr>\n",
       "  </thead>\n",
       "  <tbody>\n",
       "    <tr>\n",
       "      <th>145</th>\n",
       "      <td>CH Gayle</td>\n",
       "      <td>Royal Challengers Bengaluru</td>\n",
       "      <td>M Chinnaswamy Stadium</td>\n",
       "      <td>9</td>\n",
       "    </tr>\n",
       "  </tbody>\n",
       "</table>\n",
       "</div>"
      ],
      "text/plain": [
       "    player_of_match                       winner                  venue  count\n",
       "145        CH Gayle  Royal Challengers Bengaluru  M Chinnaswamy Stadium      9"
      ]
     },
     "execution_count": 251,
     "metadata": {},
     "output_type": "execute_result"
    }
   ],
   "source": [
    "player_perf=ref_df.groupby([\"player_of_match\", \"winner\", \"venue\",]).size().reset_index(name='count')\n",
    "top_performers = player_perf.sort_values(by='count',ascending=False)\n",
    "top_performers.head(1) "
   ]
  },
  {
   "cell_type": "markdown",
   "id": "7978c80f-45b4-4e4a-87f5-8b13d4d83683",
   "metadata": {},
   "source": [
    "* Here we can say that if the venue is M Chinnaswamy Stadium and if the CH Gayle is in the team, it is more likely that the team is going to win and the player of the match award is more likely to go to CH Gayle "
   ]
  },
  {
   "cell_type": "markdown",
   "id": "0bc484d4-3580-4e3c-80a5-68bbafde0869",
   "metadata": {},
   "source": [
    "## Section3: Venue Insights "
   ]
  },
  {
   "cell_type": "markdown",
   "id": "ff708fd8-f064-4610-b7c0-db690259eda7",
   "metadata": {},
   "source": [
    "#### Ques7. Which venue hosts the most matches?"
   ]
  },
  {
   "cell_type": "code",
   "execution_count": 241,
   "id": "c663f33e-a4d2-46f7-951b-0e1e2a4b689b",
   "metadata": {},
   "outputs": [
    {
     "name": "stdout",
     "output_type": "stream",
     "text": [
      "Eden Gardens hosts the most matches i.e, 77.\n"
     ]
    }
   ],
   "source": [
    "venues=df['venue'].value_counts()\n",
    "venue_name=venues.idxmax()\n",
    "matches=venues.max()\n",
    "\n",
    "print(f\"{venue_name} hosts the most matches i.e, {matches}.\")"
   ]
  },
  {
   "cell_type": "markdown",
   "id": "8c3cd1f7-79ea-4bfe-8a1f-2c369a378125",
   "metadata": {},
   "source": [
    "#### Ques8. Which are the most high scoring venues? Give top 10 venues."
   ]
  },
  {
   "cell_type": "code",
   "execution_count": 474,
   "id": "40893f38-f71d-4fe0-854d-1766a761d239",
   "metadata": {},
   "outputs": [
    {
     "data": {
      "text/html": [
       "<div>\n",
       "<style scoped>\n",
       "    .dataframe tbody tr th:only-of-type {\n",
       "        vertical-align: middle;\n",
       "    }\n",
       "\n",
       "    .dataframe tbody tr th {\n",
       "        vertical-align: top;\n",
       "    }\n",
       "\n",
       "    .dataframe thead th {\n",
       "        text-align: right;\n",
       "    }\n",
       "</style>\n",
       "<table border=\"1\" class=\"dataframe\">\n",
       "  <thead>\n",
       "    <tr style=\"text-align: right;\">\n",
       "      <th></th>\n",
       "      <th>venue</th>\n",
       "      <th>target_runs</th>\n",
       "    </tr>\n",
       "  </thead>\n",
       "  <tbody>\n",
       "    <tr>\n",
       "      <th>1053</th>\n",
       "      <td>M Chinnaswamy Stadium, Bengaluru</td>\n",
       "      <td>288</td>\n",
       "    </tr>\n",
       "    <tr>\n",
       "      <th>1031</th>\n",
       "      <td>Rajiv Gandhi International Stadium, Uppal, Hyd...</td>\n",
       "      <td>278</td>\n",
       "    </tr>\n",
       "    <tr>\n",
       "      <th>1039</th>\n",
       "      <td>Dr. Y.S. Rajasekhara Reddy ACA-VDCA Cricket St...</td>\n",
       "      <td>273</td>\n",
       "    </tr>\n",
       "    <tr>\n",
       "      <th>1058</th>\n",
       "      <td>Arun Jaitley Stadium, Delhi</td>\n",
       "      <td>267</td>\n",
       "    </tr>\n",
       "    <tr>\n",
       "      <th>352</th>\n",
       "      <td>M Chinnaswamy Stadium</td>\n",
       "      <td>264</td>\n",
       "    </tr>\n",
       "    <tr>\n",
       "      <th>1065</th>\n",
       "      <td>Eden Gardens, Kolkata</td>\n",
       "      <td>262</td>\n",
       "    </tr>\n",
       "    <tr>\n",
       "      <th>987</th>\n",
       "      <td>Punjab Cricket Association IS Bindra Stadium, ...</td>\n",
       "      <td>258</td>\n",
       "    </tr>\n",
       "    <tr>\n",
       "      <th>1066</th>\n",
       "      <td>Arun Jaitley Stadium, Delhi</td>\n",
       "      <td>258</td>\n",
       "    </tr>\n",
       "    <tr>\n",
       "      <th>560</th>\n",
       "      <td>M Chinnaswamy Stadium</td>\n",
       "      <td>249</td>\n",
       "    </tr>\n",
       "    <tr>\n",
       "      <th>146</th>\n",
       "      <td>MA Chidambaram Stadium, Chepauk</td>\n",
       "      <td>247</td>\n",
       "    </tr>\n",
       "  </tbody>\n",
       "</table>\n",
       "</div>"
      ],
      "text/plain": [
       "                                                  venue  target_runs\n",
       "1053                   M Chinnaswamy Stadium, Bengaluru          288\n",
       "1031  Rajiv Gandhi International Stadium, Uppal, Hyd...          278\n",
       "1039  Dr. Y.S. Rajasekhara Reddy ACA-VDCA Cricket St...          273\n",
       "1058                        Arun Jaitley Stadium, Delhi          267\n",
       "352                               M Chinnaswamy Stadium          264\n",
       "1065                              Eden Gardens, Kolkata          262\n",
       "987   Punjab Cricket Association IS Bindra Stadium, ...          258\n",
       "1066                        Arun Jaitley Stadium, Delhi          258\n",
       "560                               M Chinnaswamy Stadium          249\n",
       "146                     MA Chidambaram Stadium, Chepauk          247"
      ]
     },
     "execution_count": 474,
     "metadata": {},
     "output_type": "execute_result"
    }
   ],
   "source": [
    "high_sc_ven=ref_df.loc[:,['venue','target_runs']].sort_values('target_runs',ascending=False)\n",
    "high_sc_ven=high_sc_ven.head(10)\n",
    "high_sc_ven"
   ]
  },
  {
   "cell_type": "markdown",
   "id": "9b4c1b5b-f0d0-4c58-b4c5-9d44bb1e27b0",
   "metadata": {},
   "source": [
    "### Section4: Toss and Winning Patterns"
   ]
  },
  {
   "cell_type": "markdown",
   "id": "c9bc2753-f297-4540-8f4a-9d1765feee84",
   "metadata": {},
   "source": [
    "#### Ques9. What are the most common toss decisions (bat/field)"
   ]
  },
  {
   "cell_type": "code",
   "execution_count": 321,
   "id": "5d498744-61d9-4f1c-8a9c-568d61a0a622",
   "metadata": {},
   "outputs": [
    {
     "name": "stdout",
     "output_type": "stream",
     "text": [
      "The most common decision is to choose fielding.\n"
     ]
    }
   ],
   "source": [
    "ctd = df['toss_decision'].value_counts()\n",
    "print(f'The most common decision is to choose {ctd.idxmax()}ing.')"
   ]
  },
  {
   "cell_type": "markdown",
   "id": "be10d760-7b5c-418a-821f-b9718ea3108a",
   "metadata": {},
   "source": [
    "#### Ques10. Is batting first or chasing more successful in finals?"
   ]
  },
  {
   "cell_type": "code",
   "execution_count": 296,
   "id": "529cd876-879f-4539-b5eb-2be88bcffdd9",
   "metadata": {},
   "outputs": [
    {
     "data": {
      "text/plain": [
       "result\n",
       "runs       9\n",
       "wickets    8\n",
       "Name: count, dtype: int64"
      ]
     },
     "execution_count": 296,
     "metadata": {},
     "output_type": "execute_result"
    }
   ],
   "source": [
    "onlyfinals['result'].value_counts()"
   ]
  },
  {
   "cell_type": "markdown",
   "id": "973022ee-f9fb-4177-9ffe-2d6b9d44a21e",
   "metadata": {},
   "source": [
    "* Conclusion\n",
    "\n",
    "Here we can see that while defending 9 matches have been won and while chasing 8 matches have been won. So we can say that batting first can be more successful than chasing in finals."
   ]
  },
  {
   "cell_type": "markdown",
   "id": "2dab9c60-8a0a-4a17-999a-37d4315cc019",
   "metadata": {},
   "source": [
    "#### Ques11. What is the percentage of matches won while chasing and while defending?\n"
   ]
  },
  {
   "cell_type": "markdown",
   "id": "3bd66f21-becd-4136-9634-1bdf3ab3a288",
   "metadata": {},
   "source": [
    "##### While Chasing"
   ]
  },
  {
   "cell_type": "code",
   "execution_count": 304,
   "id": "23f98593-5d6e-4b4d-8705-4a06bdac2ee3",
   "metadata": {},
   "outputs": [],
   "source": [
    "chasing_count=(ref_df[ref_df['result']=='wickets'])[\"winner\"].count()"
   ]
  },
  {
   "cell_type": "code",
   "execution_count": 333,
   "id": "6495bdad-0880-4a19-a526-caff0d93c6a7",
   "metadata": {},
   "outputs": [
    {
     "name": "stdout",
     "output_type": "stream",
     "text": [
      "The percentage of matches won while chasing the score is 53.72 %\n"
     ]
    }
   ],
   "source": [
    "chasing_perc=chasing_count/1076*100\n",
    "print(f'The percentage of matches won while chasing the score is {round(chasing_perc,2)} %')"
   ]
  },
  {
   "cell_type": "markdown",
   "id": "4770d900-7830-4eec-b6bc-ef7fefb13e3a",
   "metadata": {},
   "source": [
    "##### While Defending"
   ]
  },
  {
   "cell_type": "code",
   "execution_count": 335,
   "id": "1eb1b721-ae58-4394-9cb9-5229c190478a",
   "metadata": {},
   "outputs": [
    {
     "name": "stdout",
     "output_type": "stream",
     "text": [
      "The percentage of matches won while defending the score is 46.28 %.\n"
     ]
    }
   ],
   "source": [
    "defending_perc=100-chasing_perc\n",
    "print(f'The percentage of matches won while defending the score is {round(defending_perc,2)} %.')"
   ]
  },
  {
   "cell_type": "markdown",
   "id": "3fe58cda-b1be-478e-aa59-b084cee52bf5",
   "metadata": {},
   "source": [
    "#### Ques12. Which team wins matches more often when they win the toss? "
   ]
  },
  {
   "cell_type": "code",
   "execution_count": 339,
   "id": "cf81ebfa-fd60-4aee-825f-11845f5f6a7b",
   "metadata": {},
   "outputs": [
    {
     "name": "stdout",
     "output_type": "stream",
     "text": [
      "Mumbai Indians has won 77 which is the maximum when they win the toss.\n"
     ]
    }
   ],
   "source": [
    "a=ref_df[ref_df['toss_winner']== ref_df['winner']]['winner'].value_counts().max()\n",
    "b=ref_df[ref_df['toss_winner']== ref_df['winner']]['winner'].value_counts().idxmax()\n",
    "\n",
    "print(f\"{b} has won {a} which is the maximum when they win the toss.\")"
   ]
  },
  {
   "cell_type": "markdown",
   "id": "2704c372-a145-476f-a9c4-b61ec4b0a4ef",
   "metadata": {},
   "source": [
    "#### Ques13. Which team has the highest win percentage when they win the toss? "
   ]
  },
  {
   "cell_type": "code",
   "execution_count": 341,
   "id": "923216f5-7d1f-432c-b69e-1fb596de1c93",
   "metadata": {},
   "outputs": [
    {
     "name": "stdout",
     "output_type": "stream",
     "text": [
      "The team with the highest win percentage when they win the toss is Gujarat Lions, with a win percentage of 71.43 %\n"
     ]
    }
   ],
   "source": [
    "toss_and_match_winner = ref_df[ref_df['toss_winner']== ref_df['winner']]\n",
    "toss_wins=ref_df['toss_winner'].value_counts()\n",
    "match_wins_after_toss=toss_and_match_winner['toss_winner'].value_counts()\n",
    "win_perc=( match_wins_after_toss/toss_wins*100).sort_values(ascending=False)\n",
    "\n",
    "highest_perc_team = win_perc.idxmax()\n",
    "higest_value = round(win_perc.max(),2)\n",
    "print(f\"The team with the highest win percentage when they win the toss is {highest_perc_team}, with a win percentage of {higest_value} %\")"
   ]
  },
  {
   "cell_type": "code",
   "execution_count": 345,
   "id": "874bd75c-6e33-4ed7-b8ed-9c342ea50d85",
   "metadata": {},
   "outputs": [
    {
     "data": {
      "text/plain": [
       "toss_winner\n",
       "Gujarat Lions                  71.43\n",
       "Gujarat Titans                 63.64\n",
       "Chennai Super Kings            62.50\n",
       "Rising Pune Supergiants        61.54\n",
       "Kolkata Knight Riders          56.20\n",
       "Mumbai Indians                 55.00\n",
       "Lucknow Super Giants           52.63\n",
       "Royal Challengers Bengaluru    50.85\n",
       "Rajasthan Royals               50.43\n",
       "Kochi Tuskers Kerala           50.00\n",
       "Delhi Capitals                 46.46\n",
       "Deccan Chargers                44.19\n",
       "Sunrisers Hyderabad            43.68\n",
       "Punjab Kings                   41.12\n",
       "Pune Warriors                  15.00\n",
       "Name: count, dtype: float64"
      ]
     },
     "execution_count": 345,
     "metadata": {},
     "output_type": "execute_result"
    }
   ],
   "source": [
    "round(win_perc,2) # Here's the complete list of toss win- match win pairs."
   ]
  },
  {
   "cell_type": "markdown",
   "id": "58d051c7-2d5e-418c-a958-11e426f1f673",
   "metadata": {},
   "source": [
    "## Section5 - Match Results Analysis and Trends"
   ]
  },
  {
   "cell_type": "markdown",
   "id": "a23bc37a-993b-47a7-94f9-29c3bdad162b",
   "metadata": {},
   "source": [
    "#### Ques14. What is the highest team score in IPL history?"
   ]
  },
  {
   "cell_type": "code",
   "execution_count": 349,
   "id": "ac79deca-23ed-41c6-a582-29d4372cf201",
   "metadata": {},
   "outputs": [
    {
     "name": "stdout",
     "output_type": "stream",
     "text": [
      "<class 'pandas.core.frame.DataFrame'>\n",
      "Index: 1076 entries, 0 to 1094\n",
      "Data columns (total 20 columns):\n",
      " #   Column           Non-Null Count  Dtype \n",
      "---  ------           --------------  ----- \n",
      " 0   id               1076 non-null   int64 \n",
      " 1   season           1076 non-null   object\n",
      " 2   city             1076 non-null   object\n",
      " 3   date             1076 non-null   object\n",
      " 4   match_type       1076 non-null   object\n",
      " 5   player_of_match  1076 non-null   object\n",
      " 6   venue            1076 non-null   object\n",
      " 7   team1            1076 non-null   object\n",
      " 8   team2            1076 non-null   object\n",
      " 9   toss_winner      1076 non-null   object\n",
      " 10  toss_decision    1076 non-null   object\n",
      " 11  winner           1076 non-null   object\n",
      " 12  result           1076 non-null   object\n",
      " 13  result_margin    1076 non-null   int32 \n",
      " 14  target_runs      1076 non-null   int32 \n",
      " 15  target_overs     1076 non-null   int32 \n",
      " 16  super_over       1076 non-null   object\n",
      " 17  method           1076 non-null   object\n",
      " 18  umpire1          1076 non-null   object\n",
      " 19  umpire2          1076 non-null   object\n",
      "dtypes: int32(3), int64(1), object(16)\n",
      "memory usage: 163.9+ KB\n"
     ]
    }
   ],
   "source": [
    "#Here we convert few float data types into int types\n",
    "intdtypes = ['target_overs','target_runs','result_margin']\n",
    "\n",
    "for i in intdtypes:\n",
    "    ref_df[i]=ref_df[i].astype(int)\n",
    "\n",
    "ref_df.info()"
   ]
  },
  {
   "cell_type": "code",
   "execution_count": 351,
   "id": "cb717da9-681a-49f2-8a36-445ac0ac9643",
   "metadata": {},
   "outputs": [
    {
     "name": "stdout",
     "output_type": "stream",
     "text": [
      "288 runs is the highest ever total in the IPL history\n"
     ]
    }
   ],
   "source": [
    "print(ref_df['target_runs'].max(),\"runs is the highest ever total in the IPL history\")"
   ]
  },
  {
   "cell_type": "markdown",
   "id": "d77bb450-7984-45ca-9ee4-53d99f4b5a28",
   "metadata": {},
   "source": [
    "#### Ques15. How many matches in IPL history encountered super-over and which team has won the most super-overs?"
   ]
  },
  {
   "cell_type": "code",
   "execution_count": 353,
   "id": "3f3a0949-3a08-4102-aafa-6abc1594e4eb",
   "metadata": {},
   "outputs": [
    {
     "data": {
      "text/plain": [
       "super_over\n",
       "N    1081\n",
       "Y      14\n",
       "Name: count, dtype: int64"
      ]
     },
     "execution_count": 353,
     "metadata": {},
     "output_type": "execute_result"
    }
   ],
   "source": [
    "df['super_over'].value_counts()  # Let's find the dataset with all the super over matches"
   ]
  },
  {
   "cell_type": "code",
   "execution_count": 382,
   "id": "dcb223c5-10bc-42ad-a048-451bd82f722d",
   "metadata": {},
   "outputs": [
    {
     "data": {
      "text/plain": [
       "winner\n",
       "Punjab Kings                   3\n",
       "Delhi Capitals                 3\n",
       "Rajasthan Royals               2\n",
       "Royal Challengers Bengaluru    2\n",
       "Mumbai Indians                 2\n",
       "Sunrisers Hyderabad            1\n",
       "Kolkata Knight Riders          1\n",
       "Name: count, dtype: int64"
      ]
     },
     "execution_count": 382,
     "metadata": {},
     "output_type": "execute_result"
    }
   ],
   "source": [
    "df[df['super_over']==\"Y\"]['winner'].value_counts()"
   ]
  },
  {
   "cell_type": "markdown",
   "id": "592ded24-3f4f-4a47-aaa7-41987dd6b904",
   "metadata": {},
   "source": [
    "* Here Punjab Kings have won the most super overs i.e., 3 matches"
   ]
  },
  {
   "cell_type": "markdown",
   "id": "b38b83bb-1618-4330-9830-2a97643f2720",
   "metadata": {},
   "source": [
    "####    Ques15. Which type of match (e.g., league, playoff) has the most number of wins by a specific team? \n"
   ]
  },
  {
   "cell_type": "code",
   "execution_count": 217,
   "id": "3a6e6758-5f3b-4a20-a78d-6169d00cca3a",
   "metadata": {},
   "outputs": [
    {
     "data": {
      "text/plain": [
       "match_type\n",
       "League                1029\n",
       "Final                   17\n",
       "Qualifier 1             14\n",
       "Qualifier 2             14\n",
       "Eliminator              11\n",
       "Semi Final               6\n",
       "Elimination Final        3\n",
       "3rd Place Play-Off       1\n",
       "Name: count, dtype: int64"
      ]
     },
     "execution_count": 217,
     "metadata": {},
     "output_type": "execute_result"
    }
   ],
   "source": [
    "df['match_type'].value_counts()"
   ]
  },
  {
   "cell_type": "code",
   "execution_count": 444,
   "id": "253ed47c-d7be-49cf-8939-a4e996b52f04",
   "metadata": {},
   "outputs": [
    {
     "data": {
      "text/html": [
       "<div>\n",
       "<style scoped>\n",
       "    .dataframe tbody tr th:only-of-type {\n",
       "        vertical-align: middle;\n",
       "    }\n",
       "\n",
       "    .dataframe tbody tr th {\n",
       "        vertical-align: top;\n",
       "    }\n",
       "\n",
       "    .dataframe thead th {\n",
       "        text-align: right;\n",
       "    }\n",
       "</style>\n",
       "<table border=\"1\" class=\"dataframe\">\n",
       "  <thead>\n",
       "    <tr style=\"text-align: right;\">\n",
       "      <th></th>\n",
       "      <th>match_type</th>\n",
       "      <th>winner</th>\n",
       "      <th>win_count</th>\n",
       "    </tr>\n",
       "  </thead>\n",
       "  <tbody>\n",
       "    <tr>\n",
       "      <th>26</th>\n",
       "      <td>League</td>\n",
       "      <td>Mumbai Indians</td>\n",
       "      <td>129</td>\n",
       "    </tr>\n",
       "    <tr>\n",
       "      <th>18</th>\n",
       "      <td>League</td>\n",
       "      <td>Chennai Super Kings</td>\n",
       "      <td>121</td>\n",
       "    </tr>\n",
       "    <tr>\n",
       "      <th>24</th>\n",
       "      <td>League</td>\n",
       "      <td>Kolkata Knight Riders</td>\n",
       "      <td>120</td>\n",
       "    </tr>\n",
       "    <tr>\n",
       "      <th>31</th>\n",
       "      <td>League</td>\n",
       "      <td>Royal Challengers Bengaluru</td>\n",
       "      <td>115</td>\n",
       "    </tr>\n",
       "    <tr>\n",
       "      <th>20</th>\n",
       "      <td>League</td>\n",
       "      <td>Delhi Capitals</td>\n",
       "      <td>110</td>\n",
       "    </tr>\n",
       "    <tr>\n",
       "      <th>28</th>\n",
       "      <td>League</td>\n",
       "      <td>Punjab Kings</td>\n",
       "      <td>108</td>\n",
       "    </tr>\n",
       "    <tr>\n",
       "      <th>29</th>\n",
       "      <td>League</td>\n",
       "      <td>Rajasthan Royals</td>\n",
       "      <td>105</td>\n",
       "    </tr>\n",
       "    <tr>\n",
       "      <th>32</th>\n",
       "      <td>League</td>\n",
       "      <td>Sunrisers Hyderabad</td>\n",
       "      <td>81</td>\n",
       "    </tr>\n",
       "    <tr>\n",
       "      <th>19</th>\n",
       "      <td>League</td>\n",
       "      <td>Deccan Chargers</td>\n",
       "      <td>27</td>\n",
       "    </tr>\n",
       "    <tr>\n",
       "      <th>22</th>\n",
       "      <td>League</td>\n",
       "      <td>Gujarat Titans</td>\n",
       "      <td>25</td>\n",
       "    </tr>\n",
       "    <tr>\n",
       "      <th>25</th>\n",
       "      <td>League</td>\n",
       "      <td>Lucknow Super Giants</td>\n",
       "      <td>24</td>\n",
       "    </tr>\n",
       "    <tr>\n",
       "      <th>30</th>\n",
       "      <td>League</td>\n",
       "      <td>Rising Pune Supergiants</td>\n",
       "      <td>14</td>\n",
       "    </tr>\n",
       "    <tr>\n",
       "      <th>21</th>\n",
       "      <td>League</td>\n",
       "      <td>Gujarat Lions</td>\n",
       "      <td>13</td>\n",
       "    </tr>\n",
       "    <tr>\n",
       "      <th>27</th>\n",
       "      <td>League</td>\n",
       "      <td>Pune Warriors</td>\n",
       "      <td>12</td>\n",
       "    </tr>\n",
       "    <tr>\n",
       "      <th>23</th>\n",
       "      <td>League</td>\n",
       "      <td>Kochi Tuskers Kerala</td>\n",
       "      <td>6</td>\n",
       "    </tr>\n",
       "  </tbody>\n",
       "</table>\n",
       "</div>"
      ],
      "text/plain": [
       "   match_type                       winner  win_count\n",
       "26     League               Mumbai Indians        129\n",
       "18     League          Chennai Super Kings        121\n",
       "24     League        Kolkata Knight Riders        120\n",
       "31     League  Royal Challengers Bengaluru        115\n",
       "20     League               Delhi Capitals        110\n",
       "28     League                 Punjab Kings        108\n",
       "29     League             Rajasthan Royals        105\n",
       "32     League          Sunrisers Hyderabad         81\n",
       "19     League              Deccan Chargers         27\n",
       "22     League               Gujarat Titans         25\n",
       "25     League         Lucknow Super Giants         24\n",
       "30     League      Rising Pune Supergiants         14\n",
       "21     League                Gujarat Lions         13\n",
       "27     League                Pune Warriors         12\n",
       "23     League         Kochi Tuskers Kerala          6"
      ]
     },
     "execution_count": 444,
     "metadata": {},
     "output_type": "execute_result"
    }
   ],
   "source": [
    "ref_df.head()\n",
    "match_type_wins = ref_df.groupby(['match_type','winner']).size().reset_index(name='win_count')\n",
    "most_wins_per_team = match_type_wins.loc[match_type_wins.groupby('winner')['win_count'].idxmax()].sort_values(by='win_count', ascending=False)\n",
    "most_wins_per_team"
   ]
  },
  {
   "cell_type": "markdown",
   "id": "00be8741-a53f-4a96-bd76-62413da5b529",
   "metadata": {},
   "source": [
    "Hence Mumbai Indians have won the maximum 129 League Matches "
   ]
  },
  {
   "cell_type": "code",
   "execution_count": 454,
   "id": "884658e6-1c63-43f2-a457-357bc7b52c55",
   "metadata": {},
   "outputs": [
    {
     "data": {
      "image/png": "[encoded data removed]",
      "text/plain": [
       "<Figure size 1000x800 with 1 Axes>"
      ]
     },
     "metadata": {},
     "output_type": "display_data"
    }
   ],
   "source": [
    "plt.figure(figsize=(10, 8))\n",
    "plt.pie(\n",
    "    most_wins_per_team['win_count'],  \n",
    "    autopct='%1.1f%%', \n",
    "    startangle=140, \n",
    "    colors=plt.cm.Paired.colors,\n",
    "    pctdistance=1.05)\n",
    "plt.legend(most_wins_per_team['winner'], title=\"Teams\", loc=\"center left\", bbox_to_anchor=(1, 0.5))\n",
    "plt.title(\"Teams with Most Wins in Different Match Types\", fontsize=14)\n",
    "plt.show()"
   ]
  },
  {
   "cell_type": "markdown",
   "id": "a9fbafa3-e881-458f-9dff-97d1e201733f",
   "metadata": {},
   "source": [
    "#### Ques16. What are the most common winning margins (by runs/wickets)?"
   ]
  },
  {
   "cell_type": "code",
   "execution_count": 402,
   "id": "6fb07d7d-570e-47c0-bed1-6cc93589797c",
   "metadata": {},
   "outputs": [
    {
     "name": "stdout",
     "output_type": "stream",
     "text": [
      "The most common winning margin according to runs is 10 runs with maximum of 17 results.\n",
      "The most common winning margin according to wickets is 6 wickets with maximum of 120 results.\n"
     ]
    }
   ],
   "source": [
    "runs = ref_df[ref_df['result']==\"runs\"]['result_margin'].value_counts().idxmax()\n",
    "runs_no_of_times =ref_df[ref_df['result']==\"runs\"]['result_margin'].value_counts().max()\n",
    "print(f\"The most common winning margin according to runs is {runs} runs with maximum of {runs_no_of_times} results.\")\n",
    "\n",
    "\n",
    "wickets = ref_df[ref_df['result']==\"wickets\"]['result_margin'].value_counts().idxmax()\n",
    "wickets_no_of_times =ref_df[ref_df['result']==\"wickets\"]['result_margin'].value_counts().max()\n",
    "print(f\"The most common winning margin according to wickets is {wickets} wickets with maximum of {wickets_no_of_times} results.\")"
   ]
  },
  {
   "cell_type": "markdown",
   "id": "7a0cc513-44c4-44c2-b1de-a2a51682f2f5",
   "metadata": {},
   "source": [
    "#### Ques17. Which team has won most matches and how many times when the match proceeds with D/L method?\n"
   ]
  },
  {
   "cell_type": "code",
   "execution_count": 404,
   "id": "1063158b-805a-4033-8249-431a72761ede",
   "metadata": {},
   "outputs": [
    {
     "name": "stdout",
     "output_type": "stream",
     "text": [
      "The team that has won maximum matches in D/L matches is Kolkata Knight Riders and has won total 4 matches\n"
     ]
    }
   ],
   "source": [
    "match_with_dl=df[df['method']=='D/L']['winner'].value_counts()\n",
    "team_won_in_dl_match = match_with_dl.idxmax()\n",
    "total_matches_won_by_DL = df[df['method']=='D/L']['winner'].value_counts().max()\n",
    "print(\"The team that has won maximum matches in D/L matches is\",team_won_in_dl_match,\"and has won total\",total_matches_won_by_DL,\"matches\")"
   ]
  },
  {
   "cell_type": "markdown",
   "id": "e69b5e01-554e-4928-98e4-31ebdbd91c61",
   "metadata": {},
   "source": [
    "####    Ques18. Which team has the most dramatic wins (highest result margin)?\r\n"
   ]
  },
  {
   "cell_type": "code",
   "execution_count": 406,
   "id": "6c6f00a5-8265-4333-97bb-f7faec92d21c",
   "metadata": {},
   "outputs": [
    {
     "name": "stdout",
     "output_type": "stream",
     "text": [
      "The team which has highest result margin victory is : Mumbai Indians with margin of 146 runs\n"
     ]
    }
   ],
   "source": [
    "maximum_result_margin = ref_df.loc[:,['winner','result_margin']]['result_margin'].max()\n",
    "team_with_maximum_result_margin = ref_df[ref_df['result_margin']==146]['winner'].max()\n",
    "print(\"The team which has highest result margin victory is :\",team_with_maximum_result_margin,\"with margin of\",maximum_result_margin,\"runs\" )"
   ]
  },
  {
   "cell_type": "markdown",
   "id": "e73c644b-347c-44ec-ae22-4157893d7fbd",
   "metadata": {},
   "source": [
    "####    Ques19. What is the average margin of victory for each team?\n"
   ]
  },
  {
   "cell_type": "code",
   "execution_count": 408,
   "id": "c23d4260-3eac-4387-a40a-9eac50b9252f",
   "metadata": {},
   "outputs": [
    {
     "name": "stdout",
     "output_type": "stream",
     "text": [
      "The average margin victory by runs is : 30 runs\n",
      "The average margin victory by wickets is : 6 wickets\n"
     ]
    }
   ],
   "source": [
    "print(\"The average margin victory by runs is :\",round(ref_df[ref_df['result']=='runs']['result_margin'].mean()),\"runs\")\n",
    "print(\"The average margin victory by wickets is :\",round(ref_df[ref_df['result']=='wickets']['result_margin'].mean()),\"wickets\")"
   ]
  },
  {
   "cell_type": "markdown",
   "id": "fef37824-02be-48cb-a677-625c093b2abc",
   "metadata": {},
   "source": [
    "#### Ques.20 What is the success rate of toss winners?"
   ]
  },
  {
   "cell_type": "code",
   "execution_count": 416,
   "id": "cc2e3933-944a-439a-b5e7-448c9d592885",
   "metadata": {},
   "outputs": [
    {
     "data": {
      "text/plain": [
       "548"
      ]
     },
     "execution_count": 416,
     "metadata": {},
     "output_type": "execute_result"
    }
   ],
   "source": [
    "twmw = ref_df[ref_df['toss_winner']==ref_df['winner']]\n",
    "twmw=twmw['winner'].count()\n",
    "twmw # Here we get the total toss won match won pairs."
   ]
  },
  {
   "cell_type": "code",
   "execution_count": 420,
   "id": "3c463317-7615-4978-8e88-e96d1e8a0e22",
   "metadata": {},
   "outputs": [
    {
     "name": "stdout",
     "output_type": "stream",
     "text": [
      "The success rate of toss winner is 50.93%\n"
     ]
    }
   ],
   "source": [
    "toss_win_perc=twmw/1076*100\n",
    "print(f'The success rate of toss winner is {round(toss_win_perc,2)}%')"
   ]
  },
  {
   "cell_type": "markdown",
   "id": "456fb41d-9c26-4d6e-867f-687dc1c7c6a4",
   "metadata": {},
   "source": [
    "#### Ques21. What is the largest win margin by runs or wickets?"
   ]
  },
  {
   "cell_type": "code",
   "execution_count": 414,
   "id": "b3b07a74-04e9-487b-aebe-7fd13ece807c",
   "metadata": {},
   "outputs": [
    {
     "name": "stdout",
     "output_type": "stream",
     "text": [
      "The largest wins by runs is: 146 runs\n",
      "The largest wins by runs is: 10 wickets\n"
     ]
    }
   ],
   "source": [
    "largest_win_byruns = ref_df[ref_df['result']=='runs']['result_margin'].max()\n",
    "\n",
    "largest_win_bywickets = ref_df[ref_df['result']=='wickets']['result_margin'].max()\n",
    "\n",
    "\n",
    "\n",
    "print(f\"The largest wins by runs is: {largest_win_byruns} runs\")\n",
    "print(f\"The largest wins by runs is: {largest_win_bywickets} wickets\")\n"
   ]
  },
  {
   "cell_type": "code",
   "execution_count": null,
   "id": "3a26262b-0427-4de5-be2e-7944b47feba4",
   "metadata": {},
   "outputs": [],
   "source": []
  }
 ],
 "metadata": {
  "kernelspec": {
   "display_name": "Python 3 (ipykernel)",
   "language": "python",
   "name": "python3"
  },
  "language_info": {
   "codemirror_mode": {
    "name": "ipython",
    "version": 3
   },
   "file_extension": ".py",
   "mimetype": "text/x-python",
   "name": "python",
   "nbconvert_exporter": "python",
   "pygments_lexer": "ipython3",
   "version": "3.12.4"
  }
 },
 "nbformat": 4,
 "nbformat_minor": 5
}
